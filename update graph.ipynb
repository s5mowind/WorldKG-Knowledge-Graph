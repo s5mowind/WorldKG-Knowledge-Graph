{
 "cells": [
  {
   "cell_type": "code",
   "execution_count": 28,
   "id": "initial_id",
   "metadata": {
    "collapsed": true,
    "ExecuteTime": {
     "end_time": "2023-11-21T09:02:48.218527600Z",
     "start_time": "2023-11-21T09:02:48.204534600Z"
    }
   },
   "outputs": [],
   "source": [
    "import os.path\n",
    "\n",
    "from rdflib import Graph, URIRef, Literal\n",
    "from tqdm import tqdm\n",
    "import pandas as pd\n",
    "import argparse"
   ]
  },
  {
   "cell_type": "code",
   "execution_count": 29,
   "outputs": [],
   "source": [
    "parser = argparse.ArgumentParser()\n",
    "parser.add_argument('--graph_file', default='slovenia.ttl', type=str, help='ttl file containing the graph to update')\n",
    "parser.add_argument('--prediction_file', default='predictions_annotated_advanced.csv', type=str, help='csv file containing uslp predictions')\n",
    "parser.add_argument('--output_file', default='updated_graph.ttl', type=str, help='file location to write updated graph to')\n",
    "parser.add_argument('--cut_off', default=1.5, type=float, help='minimum score to achieve for updates to occur')\n",
    "args = parser.parse_args(args=[])"
   ],
   "metadata": {
    "collapsed": false,
    "ExecuteTime": {
     "end_time": "2023-11-21T09:05:06.177274400Z",
     "start_time": "2023-11-21T09:05:06.164888400Z"
    }
   },
   "id": "2f0f0745fcc84c2d"
  },
  {
   "cell_type": "code",
   "execution_count": 7,
   "outputs": [
    {
     "data": {
      "text/plain": "<Graph identifier=N21c0cebd6c31437bbb06c8d498c8aabd (<class 'rdflib.graph.Graph'>)>"
     },
     "execution_count": 7,
     "metadata": {},
     "output_type": "execute_result"
    }
   ],
   "source": [
    "g = Graph()\n",
    "g.parse(args.graph_file)"
   ],
   "metadata": {
    "collapsed": false,
    "ExecuteTime": {
     "end_time": "2023-11-21T08:47:51.160721700Z",
     "start_time": "2023-11-21T08:46:52.644874100Z"
    }
   },
   "id": "54a308ea3c401017"
  },
  {
   "cell_type": "code",
   "execution_count": 26,
   "outputs": [],
   "source": [
    "predictions = pd.read_csv(args.prediction_file)\n",
    "predictions = predictions[['s', 'p', 'o', 'literal', 'score']]"
   ],
   "metadata": {
    "collapsed": false,
    "ExecuteTime": {
     "end_time": "2023-11-21T08:58:57.168608900Z",
     "start_time": "2023-11-21T08:58:57.145879100Z"
    }
   },
   "id": "65d17c266c2aaf0"
  },
  {
   "cell_type": "code",
   "execution_count": 15,
   "outputs": [],
   "source": [
    "namespace = {key: uri for key, uri in g.namespaces()}"
   ],
   "metadata": {
    "collapsed": false,
    "ExecuteTime": {
     "end_time": "2023-11-21T08:54:07.401506400Z",
     "start_time": "2023-11-21T08:54:07.383039300Z"
    }
   },
   "id": "b6c4e71f3860cd9d"
  },
  {
   "cell_type": "code",
   "execution_count": 27,
   "outputs": [],
   "source": [
    "def cast_uri(term:str, namespace:dict) -> URIRef:\n",
    "    prefix, fragment = term.split(':')\n",
    "    return namespace[prefix] + fragment"
   ],
   "metadata": {
    "collapsed": false,
    "ExecuteTime": {
     "end_time": "2023-11-21T09:01:16.206638Z",
     "start_time": "2023-11-21T09:01:16.199653400Z"
    }
   },
   "id": "97aa5e2021166465"
  },
  {
   "cell_type": "code",
   "execution_count": 30,
   "outputs": [
    {
     "name": "stderr",
     "output_type": "stream",
     "text": [
      "100%|██████████| 1188/1188 [00:00<00:00, 10094.78it/s]\n"
     ]
    }
   ],
   "source": [
    "for idx, row in tqdm(predictions.iterrows(), total=len(predictions)):\n",
    "    if row['score'] > args.cut_off:\n",
    "        subject = cast_uri(row['s'], namespace)\n",
    "        predicate = cast_uri(row['p'], namespace)\n",
    "        object = cast_uri(row['o'], namespace)\n",
    "        literal = Literal(row['literal'])\n",
    "        g.remove((subject, predicate, literal))\n",
    "        g.add((subject, predicate, object))"
   ],
   "metadata": {
    "collapsed": false,
    "ExecuteTime": {
     "end_time": "2023-11-21T09:05:46.027270200Z",
     "start_time": "2023-11-21T09:05:45.894964800Z"
    }
   },
   "id": "e7219eb31f6a595a"
  },
  {
   "cell_type": "code",
   "execution_count": 31,
   "outputs": [
    {
     "data": {
      "text/plain": "<Graph identifier=N21c0cebd6c31437bbb06c8d498c8aabd (<class 'rdflib.graph.Graph'>)>"
     },
     "execution_count": 31,
     "metadata": {},
     "output_type": "execute_result"
    }
   ],
   "source": [
    "g.serialize(args.output_file, format=\"turtle\", encoding=\"utf-8\")"
   ],
   "metadata": {
    "collapsed": false,
    "ExecuteTime": {
     "end_time": "2023-11-21T09:07:30.656864300Z",
     "start_time": "2023-11-21T09:06:44.253810600Z"
    }
   },
   "id": "895c12e13076af4e"
  },
  {
   "cell_type": "code",
   "execution_count": 3,
   "outputs": [
    {
     "data": {
      "text/plain": "'E:\\\\Datasets\\\\elliptic dataset'"
     },
     "execution_count": 3,
     "metadata": {},
     "output_type": "execute_result"
    }
   ],
   "source": [
    "os.path.dirname('E:\\Datasets\\elliptic dataset\\elliptic_txs_classes.csv')"
   ],
   "metadata": {
    "collapsed": false,
    "ExecuteTime": {
     "end_time": "2023-11-21T14:10:34.672141500Z",
     "start_time": "2023-11-21T14:10:34.661124200Z"
    }
   },
   "id": "31bf4bff31e1b0f7"
  },
  {
   "cell_type": "code",
   "execution_count": null,
   "outputs": [],
   "source": [],
   "metadata": {
    "collapsed": false
   },
   "id": "c62eada94c80239a"
  }
 ],
 "metadata": {
  "kernelspec": {
   "display_name": "Python 3",
   "language": "python",
   "name": "python3"
  },
  "language_info": {
   "codemirror_mode": {
    "name": "ipython",
    "version": 2
   },
   "file_extension": ".py",
   "mimetype": "text/x-python",
   "name": "python",
   "nbconvert_exporter": "python",
   "pygments_lexer": "ipython2",
   "version": "2.7.6"
  }
 },
 "nbformat": 4,
 "nbformat_minor": 5
}
