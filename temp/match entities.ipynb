{
 "cells": [
  {
   "cell_type": "code",
   "execution_count": 1,
   "id": "initial_id",
   "metadata": {
    "collapsed": true,
    "ExecuteTime": {
     "end_time": "2023-11-08T17:05:06.111866800Z",
     "start_time": "2023-11-08T17:05:01.328030800Z"
    }
   },
   "outputs": [],
   "source": [
    "import json\n",
    "import pandas as pd\n",
    "from haversine import haversine\n",
    "from pygeohash import decode_exactly\n",
    "from tqdm import tqdm\n",
    "import csv\n",
    "from sklearn.metrics.pairwise import cosine_similarity"
   ]
  },
  {
   "cell_type": "code",
   "execution_count": 2,
   "outputs": [],
   "source": [
    "def haversine_from_geohash(hash1:str, hash2:str) -> float:\n",
    "    \"\"\"\n",
    "    function to estimate haversine distance from geohash strings\n",
    "    :param hash1: first loaction encoded in geohash\n",
    "    :param hash2: second location encoded in geohash\n",
    "    :return: estimated distance between locations in km\n",
    "    \"\"\"\n",
    "    # only take first two parts of tuples, rest are error estimations\n",
    "    hd = haversine(decode_exactly(hash1)[:2], decode_exactly(hash2)[:2])\n",
    "    return hd"
   ],
   "metadata": {
    "collapsed": false,
    "ExecuteTime": {
     "end_time": "2023-11-08T17:05:06.132717Z",
     "start_time": "2023-11-08T17:05:06.110869200Z"
    }
   },
   "id": "8682f16077f8beb3"
  },
  {
   "cell_type": "code",
   "execution_count": 3,
   "outputs": [],
   "source": [
    "with open('geohash_precision.json', 'r') as f:\n",
    "    geohash_precision_map = json.load(f)"
   ],
   "metadata": {
    "collapsed": false,
    "ExecuteTime": {
     "end_time": "2023-11-08T17:05:06.133714Z",
     "start_time": "2023-11-08T17:05:06.119538200Z"
    }
   },
   "id": "467454fa814d0a44"
  },
  {
   "cell_type": "code",
   "execution_count": 4,
   "outputs": [],
   "source": [
    "candidates = pd.read_parquet('candidates_embedding.parquet.gzip')\n",
    "subjects = pd.read_parquet('subjects_embedding.parquet.gzip')"
   ],
   "metadata": {
    "collapsed": false,
    "ExecuteTime": {
     "end_time": "2023-11-08T17:05:06.633588Z",
     "start_time": "2023-11-08T17:05:06.130721700Z"
    }
   },
   "id": "b01eaf143980a6f0"
  },
  {
   "cell_type": "code",
   "execution_count": 5,
   "outputs": [],
   "source": [
    "with open('predicate_map.json', 'r') as f:\n",
    "    predicate_map = json.load(f)\n",
    "with open('literal_map.json', 'r') as f:\n",
    "    literal_map = json.load(f)\n",
    "with open('type_map.json', 'r') as f:\n",
    "    type_map = json.load(f)"
   ],
   "metadata": {
    "collapsed": false,
    "ExecuteTime": {
     "end_time": "2023-11-08T17:05:06.793428800Z",
     "start_time": "2023-11-08T17:05:06.637576600Z"
    }
   },
   "id": "e127dd8ec958c809"
  },
  {
   "cell_type": "code",
   "execution_count": 6,
   "outputs": [],
   "source": [
    "predicates = pd.DataFrame.from_dict(predicate_map, orient='index')\n",
    "literals = pd.DataFrame.from_dict(literal_map, orient='index')\n",
    "types = pd.DataFrame.from_dict(type_map, orient='index')"
   ],
   "metadata": {
    "collapsed": false,
    "ExecuteTime": {
     "end_time": "2023-11-08T17:05:06.840314900Z",
     "start_time": "2023-11-08T17:05:06.796393Z"
    }
   },
   "id": "426562294ee672ea"
  },
  {
   "cell_type": "code",
   "execution_count": 21,
   "outputs": [
    {
     "name": "stderr",
     "output_type": "stream",
     "text": [
      "100%|██████████| 11/11 [00:00<00:00, 3677.45it/s]\n"
     ]
    }
   ],
   "source": [
    "is_in_routine = True\n",
    "if is_in_routine:\n",
    "    contains_map = {}\n",
    "    for predicate in tqdm(predicate_map.keys()):\n",
    "        similarities = {}\n",
    "        for t in type_map.keys():\n",
    "            similarity = 0\n",
    "            if t != '<UNK>':\n",
    "                if str(t) in predicate:\n",
    "                    similarity = 0.5\n",
    "            similarities.update({t: similarity})\n",
    "        contains_map.update({predicate: similarities})\n",
    "    type_contained = pd.DataFrame.from_dict(contains_map, orient='index')"
   ],
   "metadata": {
    "collapsed": false,
    "ExecuteTime": {
     "end_time": "2023-11-08T17:17:07.614494100Z",
     "start_time": "2023-11-08T17:17:07.590492700Z"
    }
   },
   "id": "47ceb2e87f3a98c1"
  },
  {
   "cell_type": "code",
   "execution_count": 23,
   "outputs": [],
   "source": [
    "cos_sim_literal = cosine_similarity(candidates.loc[:, [f'label_emb{i}' for i in range(300)]], literals.values)\n",
    "literal_cossim_df = pd.DataFrame(cos_sim_literal, index=candidates.index.to_list(), columns=literals.index)"
   ],
   "metadata": {
    "collapsed": false,
    "ExecuteTime": {
     "end_time": "2023-11-08T17:19:43.598953700Z",
     "start_time": "2023-11-08T17:19:43.305776200Z"
    }
   },
   "id": "9dcb6f5fbd87abe0"
  },
  {
   "cell_type": "code",
   "execution_count": 24,
   "outputs": [],
   "source": [
    "cos_sim_predicate = cosine_similarity(types.values, predicates.values)\n",
    "predicate_cossim_df = pd.DataFrame(cos_sim_predicate, index=types.index, columns=predicates.index)"
   ],
   "metadata": {
    "collapsed": false,
    "ExecuteTime": {
     "end_time": "2023-11-08T17:19:44.202437300Z",
     "start_time": "2023-11-08T17:19:44.184332Z"
    }
   },
   "id": "53067dedd7c75d31"
  },
  {
   "cell_type": "code",
   "execution_count": 25,
   "outputs": [
    {
     "name": "stdout",
     "output_type": "stream",
     "text": [
      "distance matrix prec = 1: (2, 1)\n",
      "distance matrix prec = 3: (8, 6)\n",
      "distance matrix prec = 4: (64, 55)\n"
     ]
    }
   ],
   "source": [
    "for precision in set(geohash_precision_map.values()):\n",
    "    print(f\"distance matrix prec = {precision}: ({len(candidates.apply(lambda row: row['geohash'][:precision], axis=1).unique())}, {len(subjects.apply(lambda row: row['geohash'][:precision], axis=1).unique())})\")"
   ],
   "metadata": {
    "collapsed": false,
    "ExecuteTime": {
     "end_time": "2023-11-08T17:19:48.018658Z",
     "start_time": "2023-11-08T17:19:45.436826300Z"
    }
   },
   "id": "b71f863c304730a7"
  },
  {
   "cell_type": "code",
   "execution_count": 26,
   "outputs": [
    {
     "name": "stderr",
     "output_type": "stream",
     "text": [
      "100%|██████████| 3/3 [00:48<00:00, 16.12s/it]\n"
     ]
    }
   ],
   "source": [
    "distance_matrices = {}\n",
    "for p in tqdm(set(geohash_precision_map.values())):\n",
    "    dist_mat = {hash1: {hash2: haversine_from_geohash(hash1, hash2) for hash2 in candidates.apply(lambda row: row['geohash'][:p], axis=1).unique()} for hash1 in subjects.apply(lambda row: row['geohash'][:p], axis=1).unique()}\n",
    "    distance_frame = pd.DataFrame.from_dict(dist_mat, orient='index')\n",
    "    max_val = distance_frame.values.max()\n",
    "    distance_frame = pd.DataFrame(1 - (distance_frame.values / max_val), columns=distance_frame.columns, index=distance_frame.index)\n",
    "    distance_matrices.update({p: distance_frame})"
   ],
   "metadata": {
    "collapsed": false,
    "ExecuteTime": {
     "end_time": "2023-11-08T17:20:39.929991800Z",
     "start_time": "2023-11-08T17:19:51.557272300Z"
    }
   },
   "id": "ab1de2068565b6b"
  },
  {
   "cell_type": "code",
   "execution_count": 47,
   "outputs": [
    {
     "name": "stderr",
     "output_type": "stream",
     "text": [
      "- Finding matches: 100%|██████████| 8231/8231 [12:52<00:00, 10.65it/s] \n"
     ]
    }
   ],
   "source": [
    "matched = {}\n",
    "pairs = []\n",
    "# num_subjects = 20 # [:num_subjects]\n",
    "for index, row in tqdm(subjects.iterrows(), total=len(subjects), desc='- Finding matches'):\n",
    "    # save core properties for repetitive access\n",
    "    precision = geohash_precision_map[row['predicate']]\n",
    "    gh = row['geohash'][:precision]\n",
    "    pred = row['predicate']\n",
    "    lit = row['literal']\n",
    "    if (gh, pred, lit) in matched:  # only consider new constellations for subjects\n",
    "        # if these three values are the same, the uslp-score will also be the same\n",
    "        pairs.append((row['uri'], row['predicate']) + matched[(gh, pred, lit)])\n",
    "    else:\n",
    "        # prepare similarity and distance matrices for repetitive access\n",
    "        dm_precision = distance_matrices[precision].loc[gh, :]\n",
    "        cossim_matching_predicate = predicate_cossim_df.loc[:, pred]\n",
    "        cossim_matching_literal = literal_cossim_df.loc[:, lit]\n",
    "\n",
    "        # iterate through candidates and compute uslp-score\n",
    "        candidate_eval = candidates.apply(\n",
    "            lambda cand: dm_precision.loc[cand['geohash'][:precision]]\n",
    "                         + cossim_matching_predicate.loc[cand['type']]\n",
    "                         + cossim_matching_literal.loc[cand.name],\n",
    "            axis=1\n",
    "        )\n",
    "\n",
    "        # find best candidate\n",
    "        best_candidate = candidate_eval.idxmax()\n",
    "        best_candidate_uri = candidates.loc[best_candidate, 'uri']\n",
    "        best_candidate_score = candidate_eval[best_candidate]\n",
    "\n",
    "        # store matches and save constellation\n",
    "        pairs.append((row['uri'], row['predicate'], best_candidate_uri, candidate_eval[best_candidate]))\n",
    "        matched.update({(gh, pred, lit): (best_candidate_uri, best_candidate_score)})\n",
    "# 2.7 s by doing embedding simultaneously\n",
    "# 2.5 s by removing repetitive calls\n",
    "# 2.5 s for adding matched into dictionary\n",
    "# 2.5 for checking about the same if 10000 entries\n",
    "# 2.4 s removed repetitive call for dist_mat\n",
    "# 2.3 s removing repeated calls on cossim matrices\n",
    "# with match saving 6:30 for 2000\n",
    "# interpolation for 8200 subjects a 3.6s: 8.2 h"
   ],
   "metadata": {
    "collapsed": false,
    "ExecuteTime": {
     "end_time": "2023-11-09T00:12:29.021232Z",
     "start_time": "2023-11-08T23:59:36.246195Z"
    }
   },
   "id": "4a0a68d8105baa3d"
  },
  {
   "cell_type": "code",
   "execution_count": 30,
   "outputs": [
    {
     "name": "stderr",
     "output_type": "stream",
     "text": [
      "- Finding matches: 100%|██████████| 8231/8231 [16:09<00:00,  8.49it/s]  \n"
     ]
    }
   ],
   "source": [
    "matched = {}\n",
    "pairs = []\n",
    "# num_subjects = 20 # [:num_subjects]\n",
    "for index, row in tqdm(subjects.iterrows(), total=len(subjects), desc='- Finding matches'):\n",
    "    # save core properties for repetitive access\n",
    "    precision = geohash_precision_map[row['predicate']]\n",
    "    gh = row['geohash'][:precision]\n",
    "    pred = row['predicate']\n",
    "    lit = row['literal']\n",
    "    if (gh, pred, lit) in matched:  # only consider new constellations for subjects\n",
    "        # if these three values are the same, the uslp-score will also be the same\n",
    "        pairs.append((row['uri'], row['predicate']) + matched[(gh, pred, lit)])\n",
    "    else:\n",
    "        # prepare similarity and distance matrices for repetitive access\n",
    "        dm_precision = distance_matrices[precision].loc[gh, :]\n",
    "        cossim_matching_predicate = predicate_cossim_df.loc[:, pred]\n",
    "        cossim_matching_literal = literal_cossim_df.loc[:, lit]\n",
    "        contains_matching_predicate = type_contained.loc[pred, :]\n",
    "\n",
    "        # iterate through candidates and compute uslp-score\n",
    "        candidate_eval = candidates.apply(\n",
    "            lambda cand: dm_precision.loc[cand['geohash'][:precision]]\n",
    "                         + cossim_matching_predicate.loc[cand['type']]\n",
    "                         + cossim_matching_literal.loc[cand.name] \n",
    "                         + contains_matching_predicate.loc[cand['type']],\n",
    "            axis=1\n",
    "        )\n",
    "\n",
    "        # find best candidate\n",
    "        best_candidate = candidate_eval.idxmax()\n",
    "        best_candidate_uri = candidates.loc[best_candidate, 'uri']\n",
    "        best_candidate_score = candidate_eval[best_candidate]\n",
    "\n",
    "        # store matches and save constellation\n",
    "        pairs.append((row['uri'], row['predicate'], best_candidate_uri, candidate_eval[best_candidate]))\n",
    "        matched.update({(gh, pred, lit): (best_candidate_uri, best_candidate_score)})\n",
    "# 2.7 s by doing embedding simultaneously\n",
    "# 2.5 s by removing repetitive calls\n",
    "# 2.5 s for adding matched into dictionary\n",
    "# 2.5 for checking about the same if 10000 entries\n",
    "# 2.4 s removed repetitive call for dist_mat\n",
    "# 2.3 s removing repeated calls on cossim matrices\n",
    "# with match saving 6:30 for 2000\n",
    "# interpolation for 8200 subjects a 3.6s: 8.2 h\n",
    "# 16 minutes with contains"
   ],
   "metadata": {
    "collapsed": false,
    "ExecuteTime": {
     "end_time": "2023-11-08T17:38:51.675813500Z",
     "start_time": "2023-11-08T17:22:42.125566Z"
    }
   },
   "id": "833444a2126b475d"
  },
  {
   "cell_type": "code",
   "execution_count": 32,
   "outputs": [
    {
     "data": {
      "text/plain": "[('wkg:1197611988', 'wkgs:isInCountry', 'wkg:208592566', 2.739311891664202),\n ('wkg:1214729180', 'wkgs:isInCountry', 'wkg:208592566', 2.9129707538465244),\n ('wkg:1216078565', 'wkgs:isInCountry', 'wkg:208592566', 2.9129707538465244),\n ('wkg:1216078570', 'wkgs:isInCountry', 'wkg:208592566', 2.9129707538465244),\n ('wkg:1216078808', 'wkgs:isInCountry', 'wkg:208592566', 2.9129707538465244),\n ('wkg:1216078898', 'wkgs:isInCountry', 'wkg:208592566', 2.9129707538465244),\n ('wkg:1403075421', 'wkgs:isInCountry', 'wkg:208592566', 2.9129707538465244),\n ('wkg:1438157550', 'wkgs:isInCountry', 'wkg:208592566', 2.9129707538465244),\n ('wkg:1438321931', 'wkgs:isInCountry', 'wkg:208592566', 2.9129707538465244),\n ('wkg:1438321938', 'wkgs:isInCountry', 'wkg:208592566', 2.9129707538465244),\n ('wkg:1438321941', 'wkgs:isInCountry', 'wkg:208592566', 2.9129707538465244),\n ('wkg:1438321978', 'wkgs:isInCountry', 'wkg:208592566', 2.9129707538465244),\n ('wkg:1438321984', 'wkgs:isInCountry', 'wkg:208592566', 2.9129707538465244),\n ('wkg:1438322014', 'wkgs:isInCountry', 'wkg:208592566', 2.9129707538465244),\n ('wkg:1438322024', 'wkgs:isInCountry', 'wkg:208592566', 2.9129707538465244),\n ('wkg:1438322026', 'wkgs:isInCountry', 'wkg:208592566', 2.9129707538465244),\n ('wkg:1438322065', 'wkgs:isInCountry', 'wkg:208592566', 2.9129707538465244),\n ('wkg:1438322072', 'wkgs:isInCountry', 'wkg:208592566', 2.9129707538465244),\n ('wkg:1438334697', 'wkgs:isInCountry', 'wkg:208592566', 2.9129707538465244),\n ('wkg:1438334705', 'wkgs:isInCountry', 'wkg:208592566', 2.9129707538465244),\n ('wkg:1438334708', 'wkgs:isInCountry', 'wkg:208592566', 2.9129707538465244),\n ('wkg:1438334746', 'wkgs:isInCountry', 'wkg:208592566', 2.9129707538465244),\n ('wkg:1438359180', 'wkgs:isInCountry', 'wkg:208592566', 2.9129707538465244),\n ('wkg:1438359203', 'wkgs:isInCountry', 'wkg:208592566', 2.9129707538465244),\n ('wkg:156398442', 'wkgs:isInCountry', 'wkg:208592566', 2.9129707538465244),\n ('wkg:1663822183', 'wkgs:isInCountry', 'wkg:208592566', 2.9129707538465244),\n ('wkg:1663822184', 'wkgs:isInCountry', 'wkg:208592566', 2.9129707538465244),\n ('wkg:1663822193', 'wkgs:isInCountry', 'wkg:208592566', 2.9129707538465244),\n ('wkg:1663822197', 'wkgs:isInCountry', 'wkg:208592566', 2.9129707538465244),\n ('wkg:1663822198', 'wkgs:isInCountry', 'wkg:208592566', 2.9129707538465244),\n ('wkg:2394347520', 'wkgs:isInCountry', 'wkg:208592566', 2.9129707538465244),\n ('wkg:267164050', 'wkgs:isInCountry', 'wkg:208592566', 2.9129707538465244),\n ('wkg:26860833', 'wkgs:isInCountry', 'wkg:208592566', 2.9129707538465244),\n ('wkg:269360785', 'wkgs:isInCountry', 'wkg:208592566', 2.9129707538465244),\n ('wkg:269362486', 'wkgs:isInCountry', 'wkg:208592566', 2.9129707538465244),\n ('wkg:269660584', 'wkgs:isInCountry', 'wkg:208592566', 2.9129707538465244),\n ('wkg:270500977', 'wkgs:isInCountry', 'wkg:208592566', 2.9129707538465244),\n ('wkg:270599440', 'wkgs:isInCountry', 'wkg:208592566', 2.9129707538465244),\n ('wkg:2805170711', 'wkgs:isInCountry', 'wkg:208592566', 2.9129707538465244),\n ('wkg:286824994', 'wkgs:isInCountry', 'wkg:208592566', 2.9129707538465244),\n ('wkg:29098904', 'wkgs:isInCountry', 'wkg:208592566', 2.9129707538465244),\n ('wkg:296313646', 'wkgs:isInCountry', 'wkg:208592566', 2.9129707538465244),\n ('wkg:296313913', 'wkgs:isInCountry', 'wkg:208592566', 2.9129707538465244),\n ('wkg:296314264', 'wkgs:isInCountry', 'wkg:208592566', 2.9129707538465244),\n ('wkg:296314362', 'wkgs:isInCountry', 'wkg:208592566', 2.9129707538465244),\n ('wkg:303601998', 'wkgs:isInCountry', 'wkg:208592566', 2.9129707538465244),\n ('wkg:30894276', 'wkgs:isInCountry', 'wkg:208592566', 2.9129707538465244),\n ('wkg:311336235', 'wkgs:isInCountry', 'wkg:208592566', 2.9129707538465244),\n ('wkg:311557038', 'wkgs:isInCountry', 'wkg:208592566', 2.9129707538465244),\n ('wkg:3210999530', 'wkgs:isInCountry', 'wkg:208592566', 2.9129707538465244),\n ('wkg:3211007601', 'wkgs:isInCountry', 'wkg:208592566', 2.9129707538465244),\n ('wkg:3211015427', 'wkgs:isInCountry', 'wkg:208592566', 2.9129707538465244),\n ('wkg:3270783356', 'wkgs:isInCountry', 'wkg:208592566', 2.9129707538465244),\n ('wkg:3283324661', 'wkgs:isInCountry', 'wkg:208592566', 2.9129707538465244),\n ('wkg:3428303841', 'wkgs:isInCountry', 'wkg:208592566', 2.9129707538465244),\n ('wkg:3428391202', 'wkgs:isInCountry', 'wkg:208592566', 2.9129707538465244),\n ('wkg:3428396711', 'wkgs:isInCountry', 'wkg:208592566', 2.9129707538465244),\n ('wkg:3428400898', 'wkgs:isInCountry', 'wkg:208592566', 2.9129707538465244),\n ('wkg:3428402856', 'wkgs:isInCountry', 'wkg:208592566', 2.9129707538465244),\n ('wkg:3428418315', 'wkgs:isInCountry', 'wkg:208592566', 2.9129707538465244),\n ('wkg:3463825431', 'wkgs:isInCountry', 'wkg:208592566', 2.9129707538465244),\n ('wkg:360012739', 'wkgs:isInCountry', 'wkg:208592566', 2.9129707538465244),\n ('wkg:3709055720', 'wkgs:isInCountry', 'wkg:208592566', 2.9129707538465244),\n ('wkg:3723320619', 'wkgs:isInCountry', 'wkg:208592566', 2.9129707538465244),\n ('wkg:3731295744', 'wkgs:isInCountry', 'wkg:208592566', 2.9129707538465244),\n ('wkg:3731313694', 'wkgs:isInCountry', 'wkg:208592566', 2.9129707538465244),\n ('wkg:3731328138', 'wkgs:isInCountry', 'wkg:208592566', 2.9129707538465244),\n ('wkg:3731537586', 'wkgs:isInCountry', 'wkg:208592566', 2.9129707538465244),\n ('wkg:3783011235', 'wkgs:isInCountry', 'wkg:208592566', 2.9129707538465244),\n ('wkg:385253635', 'wkgs:isInCountry', 'wkg:208592566', 2.9129707538465244),\n ('wkg:385253940', 'wkgs:isInCountry', 'wkg:208592566', 2.9129707538465244),\n ('wkg:385254035', 'wkgs:isInCountry', 'wkg:208592566', 2.9129707538465244),\n ('wkg:390878309', 'wkgs:isInCountry', 'wkg:208592566', 2.9129707538465244),\n ('wkg:390878318', 'wkgs:isInCountry', 'wkg:208592566', 2.9129707538465244),\n ('wkg:390878369', 'wkgs:isInCountry', 'wkg:208592566', 2.9129707538465244),\n ('wkg:39284620', 'wkgs:isInCountry', 'wkg:208592566', 2.9129707538465244),\n ('wkg:393940156', 'wkgs:isInCountry', 'wkg:208592566', 2.9129707538465244),\n ('wkg:393940402', 'wkgs:isInCountry', 'wkg:208592566', 2.9129707538465244),\n ('wkg:393940443', 'wkgs:isInCountry', 'wkg:208592566', 2.9129707538465244),\n ('wkg:408405141', 'wkgs:isInCountry', 'wkg:208592566', 2.9129707538465244),\n ('wkg:414949756', 'wkgs:isInCountry', 'wkg:208592566', 2.9129707538465244),\n ('wkg:422477138', 'wkgs:isInCountry', 'wkg:208592566', 2.9129707538465244),\n ('wkg:4229971317', 'wkgs:isInCountry', 'wkg:208592566', 2.9129707538465244),\n ('wkg:426713608', 'wkgs:isInCountry', 'wkg:208592566', 2.9129707538465244),\n ('wkg:4336224205', 'wkgs:isInCountry', 'wkg:208592566', 2.9129707538465244),\n ('wkg:4340828554', 'wkgs:isInCountry', 'wkg:208592566', 2.9129707538465244),\n ('wkg:4666751655', 'wkgs:isInCountry', 'wkg:208592566', 2.9129707538465244),\n ('wkg:4758625604', 'wkgs:isInCountry', 'wkg:208592566', 2.9129707538465244),\n ('wkg:4758625605', 'wkgs:isInCountry', 'wkg:208592566', 2.9129707538465244),\n ('wkg:4759777109', 'wkgs:isInCountry', 'wkg:208592566', 2.9129707538465244),\n ('wkg:4759852816', 'wkgs:isInCountry', 'wkg:208592566', 2.9129707538465244),\n ('wkg:4759852817', 'wkgs:isInCountry', 'wkg:208592566', 2.9129707538465244),\n ('wkg:4759852818', 'wkgs:isInCountry', 'wkg:208592566', 2.9129707538465244),\n ('wkg:4762715686', 'wkgs:isInCountry', 'wkg:208592566', 2.9129707538465244),\n ('wkg:4762715687', 'wkgs:isInCountry', 'wkg:208592566', 2.9129707538465244),\n ('wkg:4762800121', 'wkgs:isInCountry', 'wkg:208592566', 2.9129707538465244),\n ('wkg:4768351097', 'wkgs:isInCountry', 'wkg:208592566', 2.9129707538465244),\n ('wkg:4768351098', 'wkgs:isInCountry', 'wkg:208592566', 2.9129707538465244),\n ('wkg:4768351099', 'wkgs:isInCountry', 'wkg:208592566', 2.9129707538465244),\n ('wkg:4803557086', 'wkgs:isInCountry', 'wkg:208592566', 2.9129707538465244),\n ('wkg:4803557088', 'wkgs:isInCountry', 'wkg:208592566', 2.9129707538465244),\n ('wkg:4803562934', 'wkgs:isInCountry', 'wkg:208592566', 2.9129707538465244),\n ('wkg:4803601718', 'wkgs:isInCountry', 'wkg:208592566', 2.9129707538465244),\n ('wkg:4803601719', 'wkgs:isInCountry', 'wkg:208592566', 2.9129707538465244),\n ('wkg:4803640786', 'wkgs:isInCountry', 'wkg:208592566', 2.9129707538465244),\n ('wkg:4803640788', 'wkgs:isInCountry', 'wkg:208592566', 2.9129707538465244),\n ('wkg:4803640789', 'wkgs:isInCountry', 'wkg:208592566', 2.9129707538465244),\n ('wkg:4803640790', 'wkgs:isInCountry', 'wkg:208592566', 2.9129707538465244),\n ('wkg:4805389518', 'wkgs:isInCountry', 'wkg:208592566', 2.9129707538465244),\n ('wkg:4805389519', 'wkgs:isInCountry', 'wkg:208592566', 2.9129707538465244),\n ('wkg:4805418482', 'wkgs:isInCountry', 'wkg:208592566', 2.9129707538465244),\n ('wkg:4805448141', 'wkgs:isInCountry', 'wkg:208592566', 2.9129707538465244),\n ('wkg:4805480657', 'wkgs:isInCountry', 'wkg:208592566', 2.9129707538465244),\n ('wkg:4805480658', 'wkgs:isInCountry', 'wkg:208592566', 2.9129707538465244),\n ('wkg:4805497261', 'wkgs:isInCountry', 'wkg:208592566', 2.9129707538465244),\n ('wkg:5009098949', 'wkgs:isInCountry', 'wkg:208592566', 2.9129707538465244),\n ('wkg:6039603070', 'wkgs:isInCountry', 'wkg:208592566', 2.9129707538465244),\n ('wkg:6039603071', 'wkgs:isInCountry', 'wkg:208592566', 2.9129707538465244),\n ('wkg:64001817', 'wkgs:isInCountry', 'wkg:208592566', 2.9129707538465244),\n ('wkg:64002482', 'wkgs:isInCountry', 'wkg:208592566', 2.9129707538465244),\n ('wkg:811454266', 'wkgs:isInCountry', 'wkg:208592566', 2.9129707538465244),\n ('wkg:811463944', 'wkgs:isInCountry', 'wkg:208592566', 2.9129707538465244),\n ('wkg:811474661', 'wkgs:isInCountry', 'wkg:208592566', 2.9129707538465244),\n ('wkg:811474685', 'wkgs:isInCountry', 'wkg:208592566', 2.9129707538465244),\n ('wkg:811483765', 'wkgs:isInCountry', 'wkg:208592566', 2.9129707538465244),\n ('wkg:811483770', 'wkgs:isInCountry', 'wkg:208592566', 2.9129707538465244),\n ('wkg:811483775', 'wkgs:isInCountry', 'wkg:208592566', 2.9129707538465244),\n ('wkg:1356160435', 'wkgs:isIn', 'wkg:3455824833', 1.7119577612162398),\n ('wkg:1356160436', 'wkgs:isIn', 'wkg:3455824833', 1.7119577612162398),\n ('wkg:1356961676', 'wkgs:isIn', 'wkg:3455824833', 1.7119577612162398),\n ('wkg:1356961679', 'wkgs:isIn', 'wkg:3455824833', 1.7119577612162398),\n ('wkg:1356961697', 'wkgs:isIn', 'wkg:3455824833', 1.7119577612162398),\n ('wkg:1640456921', 'wkgs:isIn', 'wkg:3455824833', 1.7119577612162398),\n ('wkg:29098904', 'wkgs:isIn', 'wkg:3455824833', 1.7119577612162398),\n ('wkg:2988509947', 'wkgs:isIn', 'wkg:3455824833', 1.7119577612162398),\n ('wkg:3933592105', 'wkgs:isIn', 'wkg:3455824833', 1.7119577612162398),\n ('wkg:3937702645', 'wkgs:isIn', 'wkg:3455824833', 1.7119577612162398),\n ('wkg:429993059', 'wkgs:isIn', 'wkg:1762309149', 1.9759238998177913),\n ('wkg:452496613', 'wkgs:isIn', 'wkg:3455824833', 1.7119577612162398),\n ('wkg:452504571', 'wkgs:isIn', 'wkg:3455824833', 1.7119577612162398),\n ('wkg:454837919', 'wkgs:isIn', 'wkg:3455824833', 1.7119577612162398),\n ('wkg:460393771', 'wkgs:isIn', 'wkg:208592566', 2.0241734245540246),\n ('wkg:601855984', 'wkgs:isIn', 'wkg:3455824833', 1.7119577612162398),\n ('wkg:759070109', 'wkgs:isIn', 'wkg:3455824833', 1.7119577612162398),\n ('wkg:87198774', 'wkgs:isIn', 'wkg:3455824833', 1.7119577612162398),\n ('wkg:872551227', 'wkgs:isIn', 'wkg:3455824833', 1.7119577612162398),\n ('wkg:875919516', 'wkgs:isIn', 'wkg:3455824833', 1.7119577612162398),\n ('wkg:875919535', 'wkgs:isIn', 'wkg:3455824833', 1.7119577612162398),\n ('wkg:875919586', 'wkgs:isIn', 'wkg:3455824833', 1.7119577612162398),\n ('wkg:875919608', 'wkgs:isIn', 'wkg:3455824833', 1.7119577612162398),\n ('wkg:875919641', 'wkgs:isIn', 'wkg:3455824833', 1.7119577612162398),\n ('wkg:875919684', 'wkgs:isIn', 'wkg:3455824833', 1.7119577612162398),\n ('wkg:875919689', 'wkgs:isIn', 'wkg:3455824833', 1.7119577612162398),\n ('wkg:875919720', 'wkgs:isIn', 'wkg:3455824833', 1.7119577612162398),\n ('wkg:875919737', 'wkgs:isIn', 'wkg:3455824833', 1.7119577612162398),\n ('wkg:875919754', 'wkgs:isIn', 'wkg:3455824833', 1.7119577612162398),\n ('wkg:875919757', 'wkgs:isIn', 'wkg:3455824833', 1.7119577612162398),\n ('wkg:875919787', 'wkgs:isIn', 'wkg:3455824833', 1.7119577612162398),\n ('wkg:875919837', 'wkgs:isIn', 'wkg:3455824833', 1.7119577612162398),\n ('wkg:875919854', 'wkgs:isIn', 'wkg:3455824833', 1.7119577612162398),\n ('wkg:875919874', 'wkgs:isIn', 'wkg:3455824833', 1.7119577612162398),\n ('wkg:875919908', 'wkgs:isIn', 'wkg:3455824833', 1.7119577612162398),\n ('wkg:875920014', 'wkgs:isIn', 'wkg:3455824833', 1.7119577612162398),\n ('wkg:875920036', 'wkgs:isIn', 'wkg:3455824833', 1.7119577612162398),\n ('wkg:875920075', 'wkgs:isIn', 'wkg:3455824833', 1.7119577612162398),\n ('wkg:875920090', 'wkgs:isIn', 'wkg:3455824833', 1.7119577612162398),\n ('wkg:875920093', 'wkgs:isIn', 'wkg:3455824833', 1.7119577612162398),\n ('wkg:875920124', 'wkgs:isIn', 'wkg:3455824833', 1.7119577612162398),\n ('wkg:875920172', 'wkgs:isIn', 'wkg:3455824833', 1.7119577612162398),\n ('wkg:875920200', 'wkgs:isIn', 'wkg:3455824833', 1.7119577612162398),\n ('wkg:875920231', 'wkgs:isIn', 'wkg:3455824833', 1.7119577612162398),\n ('wkg:875920246', 'wkgs:isIn', 'wkg:3455824833', 1.7119577612162398),\n ('wkg:876236821', 'wkgs:isIn', 'wkg:3455824833', 1.7119577612162398),\n ('wkg:876236844', 'wkgs:isIn', 'wkg:3455824833', 1.7119577612162398),\n ('wkg:876236870', 'wkgs:isIn', 'wkg:3455824833', 1.7119577612162398),\n ('wkg:876236959', 'wkgs:isIn', 'wkg:3455824833', 1.7119577612162398),\n ('wkg:876236968', 'wkgs:isIn', 'wkg:3455824833', 1.7119577612162398),\n ('wkg:876237017', 'wkgs:isIn', 'wkg:3455824833', 1.7119577612162398),\n ('wkg:876237083', 'wkgs:isIn', 'wkg:3455824833', 1.7119577612162398),\n ('wkg:876364593', 'wkgs:isIn', 'wkg:3455824833', 1.7119577612162398),\n ('wkg:876364796', 'wkgs:isIn', 'wkg:3455824833', 1.7119577612162398),\n ('wkg:876364878', 'wkgs:isIn', 'wkg:3455824833', 1.7119577612162398),\n ('wkg:876365047', 'wkgs:isIn', 'wkg:3455824833', 1.7119577612162398),\n ('wkg:876365088', 'wkgs:isIn', 'wkg:3455824833', 1.7119577612162398),\n ('wkg:10002661877', 'wkgs:addrPlace', 'wkg:7889121556', 2.200600030364302),\n ('wkg:10002661878', 'wkgs:addrPlace', 'wkg:7889121556', 2.200600030364302),\n ('wkg:10002661879', 'wkgs:addrPlace', 'wkg:7889121556', 2.200600030364302),\n ('wkg:10002661880', 'wkgs:addrPlace', 'wkg:7889121556', 2.200600030364302),\n ('wkg:10002661881', 'wkgs:addrPlace', 'wkg:7889121556', 2.200600030364302),\n ('wkg:10002661882', 'wkgs:addrPlace', 'wkg:7889121556', 2.200600030364302),\n ('wkg:10002661883', 'wkgs:addrPlace', 'wkg:7889121556', 2.200600030364302),\n ('wkg:10002661884', 'wkgs:addrPlace', 'wkg:7889121556', 2.200600030364302),\n ('wkg:10002661885', 'wkgs:addrPlace', 'wkg:7889121556', 2.200600030364302),\n ('wkg:10002661886', 'wkgs:addrPlace', 'wkg:7889121556', 2.200600030364302),\n ('wkg:10002661887', 'wkgs:addrPlace', 'wkg:7889121556', 2.200600030364302),\n ('wkg:10002661888', 'wkgs:addrPlace', 'wkg:7889121556', 2.200600030364302),\n ('wkg:10002661889', 'wkgs:addrPlace', 'wkg:7889121556', 2.200600030364302),\n ('wkg:10002688596', 'wkgs:addrPlace', 'wkg:7889121556', 2.200600030364302),\n ('wkg:10002688597', 'wkgs:addrPlace', 'wkg:7889121556', 2.200600030364302),\n ('wkg:10002688598', 'wkgs:addrPlace', 'wkg:7889121556', 2.200600030364302),\n ('wkg:10002688599', 'wkgs:addrPlace', 'wkg:7889121556', 2.200600030364302),\n ('wkg:10002688600', 'wkgs:addrPlace', 'wkg:7889121556', 2.200600030364302),\n ('wkg:10002688601', 'wkgs:addrPlace', 'wkg:7889121556', 2.200600030364302),\n ('wkg:10002688602', 'wkgs:addrPlace', 'wkg:7889121556', 2.200600030364302),\n ('wkg:10002688603', 'wkgs:addrPlace', 'wkg:7889121556', 2.200600030364302),\n ('wkg:10002688604', 'wkgs:addrPlace', 'wkg:7889121556', 2.200600030364302),\n ('wkg:10002688605', 'wkgs:addrPlace', 'wkg:7889121556', 2.200600030364302),\n ('wkg:10002688606', 'wkgs:addrPlace', 'wkg:7889121556', 2.200600030364302),\n ('wkg:10002688607', 'wkgs:addrPlace', 'wkg:7889121556', 2.200600030364302),\n ('wkg:10002688608', 'wkgs:addrPlace', 'wkg:7889121556', 2.200600030364302),\n ('wkg:10002688609', 'wkgs:addrPlace', 'wkg:7889121556', 2.200600030364302),\n ('wkg:10002688610', 'wkgs:addrPlace', 'wkg:7889121556', 2.200600030364302),\n ('wkg:10002688611', 'wkgs:addrPlace', 'wkg:7889121556', 2.200600030364302),\n ('wkg:10002688612', 'wkgs:addrPlace', 'wkg:7889121556', 2.200600030364302),\n ('wkg:10002688613', 'wkgs:addrPlace', 'wkg:7889121556', 2.200600030364302),\n ('wkg:10002707799', 'wkgs:addrPlace', 'wkg:7889121556', 2.200600030364302),\n ('wkg:10002707800', 'wkgs:addrPlace', 'wkg:7889121556', 2.200600030364302),\n ('wkg:10002707801', 'wkgs:addrPlace', 'wkg:7889121556', 2.200600030364302),\n ('wkg:10002707802', 'wkgs:addrPlace', 'wkg:7889121556', 2.200600030364302),\n ('wkg:10002707803', 'wkgs:addrPlace', 'wkg:7889121556', 2.200600030364302),\n ('wkg:10002707804', 'wkgs:addrPlace', 'wkg:7889121556', 2.200600030364302),\n ('wkg:10002707805', 'wkgs:addrPlace', 'wkg:7889121556', 2.200600030364302),\n ('wkg:10002707806', 'wkgs:addrPlace', 'wkg:7889121556', 2.200600030364302),\n ('wkg:10002707807', 'wkgs:addrPlace', 'wkg:7889121556', 2.200600030364302),\n ('wkg:10002707808', 'wkgs:addrPlace', 'wkg:7889121556', 2.200600030364302),\n ('wkg:10002707809', 'wkgs:addrPlace', 'wkg:7889121556', 2.200600030364302),\n ('wkg:10002707810', 'wkgs:addrPlace', 'wkg:7889121556', 2.200600030364302),\n ('wkg:10002707811', 'wkgs:addrPlace', 'wkg:7889121556', 2.200600030364302),\n ('wkg:10002707812', 'wkgs:addrPlace', 'wkg:7889121556', 2.200600030364302),\n ('wkg:10002707813', 'wkgs:addrPlace', 'wkg:7889121556', 2.200600030364302),\n ('wkg:10002707814', 'wkgs:addrPlace', 'wkg:7889121556', 2.200600030364302),\n ('wkg:10002707815', 'wkgs:addrPlace', 'wkg:7889121556', 2.200600030364302),\n ('wkg:10002707816', 'wkgs:addrPlace', 'wkg:7889121556', 2.200600030364302),\n ('wkg:10002723417', 'wkgs:addrPlace', 'wkg:7889121556', 2.200600030364302),\n ('wkg:10002723418', 'wkgs:addrPlace', 'wkg:7889121556', 2.200600030364302),\n ('wkg:10002723419', 'wkgs:addrPlace', 'wkg:7889121556', 2.200600030364302),\n ('wkg:10002723420', 'wkgs:addrPlace', 'wkg:7889121556', 2.200600030364302),\n ('wkg:10002798405', 'wkgs:addrPlace', 'wkg:4706877564', 2.182753214393141),\n ('wkg:10002798406', 'wkgs:addrPlace', 'wkg:4706877564', 2.182753214393141),\n ('wkg:10002798407', 'wkgs:addrPlace', 'wkg:4706877564', 2.182753214393141),\n ('wkg:10002798408', 'wkgs:addrPlace', 'wkg:4706877564', 2.182753214393141),\n ('wkg:10002798409', 'wkgs:addrPlace', 'wkg:4706877564', 2.182753214393141),\n ('wkg:10002798410', 'wkgs:addrPlace', 'wkg:4706877564', 2.182753214393141),\n ('wkg:10002798411', 'wkgs:addrPlace', 'wkg:4706877564', 2.182753214393141),\n ('wkg:10002798412', 'wkgs:addrPlace', 'wkg:4706877564', 2.182753214393141),\n ('wkg:10002798413', 'wkgs:addrPlace', 'wkg:4706877564', 2.182753214393141),\n ('wkg:10002798414', 'wkgs:addrPlace', 'wkg:4706877564', 2.182753214393141),\n ('wkg:10002798415', 'wkgs:addrPlace', 'wkg:4706877564', 2.182753214393141),\n ('wkg:10002798416', 'wkgs:addrPlace', 'wkg:4706877564', 2.182753214393141),\n ('wkg:10002817117', 'wkgs:addrPlace', 'wkg:4706877564', 2.182753214393141),\n ('wkg:10002817118', 'wkgs:addrPlace', 'wkg:4706877564', 2.182753214393141),\n ('wkg:10002817119', 'wkgs:addrPlace', 'wkg:4706877564', 2.182753214393141),\n ('wkg:10002817120', 'wkgs:addrPlace', 'wkg:4706877564', 2.182753214393141),\n ('wkg:10002817121', 'wkgs:addrPlace', 'wkg:4706877564', 2.182753214393141),\n ('wkg:10002817122', 'wkgs:addrPlace', 'wkg:4706877564', 2.182753214393141),\n ('wkg:10002817123', 'wkgs:addrPlace', 'wkg:4706877564', 2.182753214393141),\n ('wkg:10002817124', 'wkgs:addrPlace', 'wkg:4706877564', 2.182753214393141),\n ('wkg:10002817125', 'wkgs:addrPlace', 'wkg:4706877564', 2.182753214393141),\n ('wkg:10002817126', 'wkgs:addrPlace', 'wkg:4706877564', 2.182753214393141),\n ('wkg:10002817127', 'wkgs:addrPlace', 'wkg:4706877564', 2.182753214393141),\n ('wkg:10002817128', 'wkgs:addrPlace', 'wkg:4706877564', 2.182753214393141),\n ('wkg:10002817129', 'wkgs:addrPlace', 'wkg:4706877564', 2.182753214393141),\n ('wkg:10002817130', 'wkgs:addrPlace', 'wkg:4706877564', 2.182753214393141),\n ('wkg:10002817131', 'wkgs:addrPlace', 'wkg:4706877564', 2.182753214393141),\n ('wkg:10002822395', 'wkgs:addrPlace', 'wkg:4706877564', 2.182753214393141),\n ('wkg:10002822396', 'wkgs:addrPlace', 'wkg:4706877564', 2.182753214393141),\n ('wkg:10002822397', 'wkgs:addrPlace', 'wkg:4706877564', 2.182753214393141),\n ('wkg:10002822398', 'wkgs:addrPlace', 'wkg:4706877564', 2.182753214393141),\n ('wkg:10002822399', 'wkgs:addrPlace', 'wkg:4706877564', 2.182753214393141),\n ('wkg:10002822400', 'wkgs:addrPlace', 'wkg:4706877564', 2.182753214393141),\n ('wkg:10002822401', 'wkgs:addrPlace', 'wkg:4706877564', 2.182753214393141),\n ('wkg:10002822402', 'wkgs:addrPlace', 'wkg:4706877564', 2.182753214393141),\n ('wkg:10002822403', 'wkgs:addrPlace', 'wkg:4706877564', 2.182753214393141),\n ('wkg:10002822404', 'wkgs:addrPlace', 'wkg:4706877564', 2.182753214393141),\n ('wkg:10002822405', 'wkgs:addrPlace', 'wkg:4706877564', 2.182753214393141),\n ('wkg:10002822406', 'wkgs:addrPlace', 'wkg:4706877564', 2.182753214393141),\n ('wkg:10002822407', 'wkgs:addrPlace', 'wkg:4706877564', 2.182753214393141),\n ('wkg:10002822408', 'wkgs:addrPlace', 'wkg:4706877564', 2.182753214393141),\n ('wkg:10002822409', 'wkgs:addrPlace', 'wkg:4706877564', 2.182753214393141),\n ('wkg:10002822410', 'wkgs:addrPlace', 'wkg:4706877564', 2.182753214393141),\n ('wkg:10002822411', 'wkgs:addrPlace', 'wkg:4706877564', 2.182753214393141),\n ('wkg:10002822412', 'wkgs:addrPlace', 'wkg:4706877564', 2.182753214393141),\n ('wkg:10002822413', 'wkgs:addrPlace', 'wkg:4706877564', 2.182753214393141),\n ('wkg:10002822414', 'wkgs:addrPlace', 'wkg:4706877564', 2.182753214393141),\n ('wkg:10002822415', 'wkgs:addrPlace', 'wkg:4706877564', 2.182753214393141),\n ('wkg:10002822416', 'wkgs:addrPlace', 'wkg:4706877564', 2.182753214393141),\n ('wkg:10002830187', 'wkgs:addrPlace', 'wkg:4706877564', 2.182753214393141),\n ('wkg:10002830188', 'wkgs:addrPlace', 'wkg:4706877564', 2.182753214393141),\n ('wkg:10002830189', 'wkgs:addrPlace', 'wkg:4706877564', 2.182753214393141),\n ('wkg:10002830190', 'wkgs:addrPlace', 'wkg:4706877564', 2.182753214393141),\n ('wkg:10002830191', 'wkgs:addrPlace', 'wkg:4706877564', 2.182753214393141),\n ('wkg:10002830192', 'wkgs:addrPlace', 'wkg:4706877564', 2.182753214393141),\n ('wkg:10002830193', 'wkgs:addrPlace', 'wkg:4706877564', 2.182753214393141),\n ('wkg:10002830194', 'wkgs:addrPlace', 'wkg:4706877564', 2.182753214393141),\n ('wkg:10002830195', 'wkgs:addrPlace', 'wkg:4706877564', 2.182753214393141),\n ('wkg:10002830196', 'wkgs:addrPlace', 'wkg:4706877564', 2.182753214393141),\n ('wkg:10002830197', 'wkgs:addrPlace', 'wkg:4706877564', 2.182753214393141),\n ('wkg:10002830198', 'wkgs:addrPlace', 'wkg:4706877564', 2.182753214393141),\n ('wkg:10002830199', 'wkgs:addrPlace', 'wkg:4706877564', 2.182753214393141),\n ('wkg:10002830200', 'wkgs:addrPlace', 'wkg:4706877564', 2.182753214393141),\n ('wkg:10002830201', 'wkgs:addrPlace', 'wkg:4706877564', 2.182753214393141),\n ('wkg:10002830202', 'wkgs:addrPlace', 'wkg:4706877564', 2.182753214393141),\n ('wkg:10002830203', 'wkgs:addrPlace', 'wkg:4706877564', 2.182753214393141),\n ('wkg:10002830204', 'wkgs:addrPlace', 'wkg:4706877564', 2.182753214393141),\n ('wkg:10002830205', 'wkgs:addrPlace', 'wkg:4706877564', 2.182753214393141),\n ('wkg:10002830206', 'wkgs:addrPlace', 'wkg:4706877564', 2.182753214393141),\n ('wkg:10002830207', 'wkgs:addrPlace', 'wkg:4706877564', 2.182753214393141),\n ('wkg:10002830208', 'wkgs:addrPlace', 'wkg:4706877564', 2.182753214393141),\n ('wkg:10002830209', 'wkgs:addrPlace', 'wkg:4706877564', 2.182753214393141),\n ('wkg:10002830210', 'wkgs:addrPlace', 'wkg:4706877564', 2.182753214393141),\n ('wkg:10002830211', 'wkgs:addrPlace', 'wkg:4706877564', 2.182753214393141),\n ('wkg:10002830212', 'wkgs:addrPlace', 'wkg:4706877564', 2.182753214393141),\n ('wkg:10002830213', 'wkgs:addrPlace', 'wkg:4706877564', 2.182753214393141),\n ('wkg:10002830214', 'wkgs:addrPlace', 'wkg:4706877564', 2.182753214393141),\n ('wkg:10002830215', 'wkgs:addrPlace', 'wkg:4706877564', 2.182753214393141),\n ('wkg:10002830216', 'wkgs:addrPlace', 'wkg:4706877564', 2.182753214393141),\n ('wkg:10002831017', 'wkgs:addrPlace', 'wkg:4706877564', 2.182753214393141),\n ('wkg:10002831018', 'wkgs:addrPlace', 'wkg:4706877564', 2.182753214393141),\n ('wkg:10002831019', 'wkgs:addrPlace', 'wkg:4706877564', 2.182753214393141),\n ('wkg:10002831020', 'wkgs:addrPlace', 'wkg:4706877564', 2.182753214393141),\n ('wkg:10002831021', 'wkgs:addrPlace', 'wkg:4706877564', 2.182753214393141),\n ('wkg:10002831022', 'wkgs:addrPlace', 'wkg:4706877564', 2.182753214393141),\n ('wkg:10002831023', 'wkgs:addrPlace', 'wkg:4706877564', 2.182753214393141),\n ('wkg:10002831024', 'wkgs:addrPlace', 'wkg:4706877564', 2.182753214393141),\n ('wkg:10002831025', 'wkgs:addrPlace', 'wkg:4706877564', 2.182753214393141),\n ('wkg:10002831026', 'wkgs:addrPlace', 'wkg:4706877564', 2.182753214393141),\n ('wkg:10002831027', 'wkgs:addrPlace', 'wkg:4706877564', 2.182753214393141),\n ('wkg:10002831028', 'wkgs:addrPlace', 'wkg:4706877564', 2.182753214393141),\n ('wkg:10002831029', 'wkgs:addrPlace', 'wkg:4706877564', 2.182753214393141),\n ('wkg:10002831030', 'wkgs:addrPlace', 'wkg:4706877564', 2.182753214393141),\n ('wkg:10002831031', 'wkgs:addrPlace', 'wkg:4706877564', 2.182753214393141),\n ('wkg:10002831032', 'wkgs:addrPlace', 'wkg:4706877564', 2.182753214393141),\n ('wkg:10002831033', 'wkgs:addrPlace', 'wkg:4706877564', 2.182753214393141),\n ('wkg:10002831034', 'wkgs:addrPlace', 'wkg:4706877564', 2.182753214393141),\n ('wkg:10002831035', 'wkgs:addrPlace', 'wkg:4706877564', 2.182753214393141),\n ('wkg:10002831036', 'wkgs:addrPlace', 'wkg:4706877564', 2.182753214393141),\n ('wkg:10002831037', 'wkgs:addrPlace', 'wkg:4706877564', 2.182753214393141),\n ('wkg:10002831038', 'wkgs:addrPlace', 'wkg:4706877564', 2.182753214393141),\n ('wkg:10002831039', 'wkgs:addrPlace', 'wkg:4706877564', 2.182753214393141),\n ('wkg:10002831040', 'wkgs:addrPlace', 'wkg:4706877564', 2.182753214393141),\n ('wkg:10002831041', 'wkgs:addrPlace', 'wkg:4706877564', 2.182753214393141),\n ('wkg:10002831042', 'wkgs:addrPlace', 'wkg:4706877564', 2.182753214393141),\n ('wkg:10002831043', 'wkgs:addrPlace', 'wkg:4706877564', 2.182753214393141),\n ('wkg:10002831044', 'wkgs:addrPlace', 'wkg:4706877564', 2.182753214393141),\n ('wkg:10002831045', 'wkgs:addrPlace', 'wkg:4706877564', 2.182753214393141),\n ('wkg:10002831046', 'wkgs:addrPlace', 'wkg:4706877564', 2.182753214393141),\n ('wkg:10002831047', 'wkgs:addrPlace', 'wkg:4706877564', 2.182753214393141),\n ('wkg:10002831048', 'wkgs:addrPlace', 'wkg:4706877564', 2.182753214393141),\n ('wkg:10002831049', 'wkgs:addrPlace', 'wkg:4706877564', 2.182753214393141),\n ('wkg:10002831050', 'wkgs:addrPlace', 'wkg:4706877564', 2.182753214393141),\n ('wkg:10002831051', 'wkgs:addrPlace', 'wkg:4706877564', 2.182753214393141),\n ('wkg:10002831052', 'wkgs:addrPlace', 'wkg:4706877564', 2.182753214393141),\n ('wkg:10002831053', 'wkgs:addrPlace', 'wkg:4706877564', 2.182753214393141),\n ('wkg:10002831054', 'wkgs:addrPlace', 'wkg:4706877564', 2.182753214393141),\n ('wkg:10002831055', 'wkgs:addrPlace', 'wkg:4706877564', 2.182753214393141),\n ('wkg:10002831056', 'wkgs:addrPlace', 'wkg:4706877564', 2.182753214393141),\n ('wkg:10002831057', 'wkgs:addrPlace', 'wkg:4706877564', 2.182753214393141),\n ('wkg:10002831058', 'wkgs:addrPlace', 'wkg:4706877564', 2.182753214393141),\n ('wkg:10002831059', 'wkgs:addrPlace', 'wkg:4706877564', 2.182753214393141),\n ('wkg:10002831060', 'wkgs:addrPlace', 'wkg:4706877564', 2.182753214393141),\n ('wkg:10002831061', 'wkgs:addrPlace', 'wkg:4706877564', 2.182753214393141),\n ('wkg:10002831062', 'wkgs:addrPlace', 'wkg:4706877564', 2.182753214393141),\n ('wkg:10002831063', 'wkgs:addrPlace', 'wkg:4706877564', 2.182753214393141),\n ('wkg:10002831064', 'wkgs:addrPlace', 'wkg:4706877564', 2.182753214393141),\n ('wkg:10002831065', 'wkgs:addrPlace', 'wkg:4706877564', 2.182753214393141),\n ('wkg:10002831066', 'wkgs:addrPlace', 'wkg:4706877564', 2.182753214393141),\n ('wkg:10002831067', 'wkgs:addrPlace', 'wkg:4706877564', 2.182753214393141),\n ('wkg:10002831068', 'wkgs:addrPlace', 'wkg:4706877564', 2.182753214393141),\n ('wkg:10002831069', 'wkgs:addrPlace', 'wkg:4706877564', 2.182753214393141),\n ('wkg:10002831070', 'wkgs:addrPlace', 'wkg:4706877564', 2.182753214393141),\n ('wkg:10002831071', 'wkgs:addrPlace', 'wkg:4706877564', 2.182753214393141),\n ('wkg:10002831072', 'wkgs:addrPlace', 'wkg:4706877564', 2.182753214393141),\n ('wkg:10002831073', 'wkgs:addrPlace', 'wkg:4706877564', 2.182753214393141),\n ('wkg:10002831074', 'wkgs:addrPlace', 'wkg:4706877564', 2.182753214393141),\n ('wkg:10002831075', 'wkgs:addrPlace', 'wkg:4706877564', 2.182753214393141),\n ('wkg:10002831076', 'wkgs:addrPlace', 'wkg:4706877564', 2.182753214393141),\n ('wkg:10002831077', 'wkgs:addrPlace', 'wkg:4706877564', 2.182753214393141),\n ('wkg:10002831078', 'wkgs:addrPlace', 'wkg:4706877564', 2.182753214393141),\n ('wkg:10002831079', 'wkgs:addrPlace', 'wkg:4706877564', 2.182753214393141),\n ('wkg:10002831080', 'wkgs:addrPlace', 'wkg:4706877564', 2.182753214393141),\n ('wkg:10002831081', 'wkgs:addrPlace', 'wkg:4706877564', 2.182753214393141),\n ('wkg:10002831082', 'wkgs:addrPlace', 'wkg:4706877564', 2.182753214393141),\n ('wkg:10002831083', 'wkgs:addrPlace', 'wkg:4706877564', 2.182753214393141),\n ('wkg:10002831084', 'wkgs:addrPlace', 'wkg:4706877564', 2.182753214393141),\n ('wkg:10002831085', 'wkgs:addrPlace', 'wkg:4706877564', 2.182753214393141),\n ('wkg:10002831086', 'wkgs:addrPlace', 'wkg:4706877564', 2.182753214393141),\n ('wkg:10002831087', 'wkgs:addrPlace', 'wkg:4706877564', 2.182753214393141),\n ('wkg:10002831088', 'wkgs:addrPlace', 'wkg:4706877564', 2.182753214393141),\n ('wkg:10002831089', 'wkgs:addrPlace', 'wkg:4706877564', 2.182753214393141),\n ('wkg:10002831090', 'wkgs:addrPlace', 'wkg:4706877564', 2.182753214393141),\n ('wkg:10002831091', 'wkgs:addrPlace', 'wkg:4706877564', 2.182753214393141),\n ('wkg:10002831092', 'wkgs:addrPlace', 'wkg:4706877564', 2.182753214393141),\n ('wkg:10002831093', 'wkgs:addrPlace', 'wkg:4706877564', 2.182753214393141),\n ('wkg:10002831094', 'wkgs:addrPlace', 'wkg:4706877564', 2.182753214393141),\n ('wkg:10002831095', 'wkgs:addrPlace', 'wkg:4706877564', 2.182753214393141),\n ('wkg:10002831096', 'wkgs:addrPlace', 'wkg:4706877564', 2.182753214393141),\n ('wkg:10002831097', 'wkgs:addrPlace', 'wkg:4706877564', 2.182753214393141),\n ('wkg:10002831098', 'wkgs:addrPlace', 'wkg:4706877564', 2.182753214393141),\n ('wkg:10002831099', 'wkgs:addrPlace', 'wkg:4706877564', 2.182753214393141),\n ('wkg:10002831100', 'wkgs:addrPlace', 'wkg:4706877564', 2.182753214393141),\n ('wkg:10002831101', 'wkgs:addrPlace', 'wkg:4706877564', 2.182753214393141),\n ('wkg:10002831102', 'wkgs:addrPlace', 'wkg:4706877564', 2.182753214393141),\n ('wkg:10002831103', 'wkgs:addrPlace', 'wkg:4706877564', 2.182753214393141),\n ('wkg:10002831104', 'wkgs:addrPlace', 'wkg:4706877564', 2.182753214393141),\n ('wkg:10002831105', 'wkgs:addrPlace', 'wkg:4706877564', 2.182753214393141),\n ('wkg:10002831106', 'wkgs:addrPlace', 'wkg:4706877564', 2.182753214393141),\n ('wkg:10002831107', 'wkgs:addrPlace', 'wkg:4706877564', 2.182753214393141),\n ('wkg:10002831108', 'wkgs:addrPlace', 'wkg:4706877564', 2.182753214393141),\n ('wkg:10002831109', 'wkgs:addrPlace', 'wkg:4706877564', 2.182753214393141),\n ('wkg:10002831110', 'wkgs:addrPlace', 'wkg:4706877564', 2.182753214393141),\n ('wkg:10002831111', 'wkgs:addrPlace', 'wkg:4706877564', 2.182753214393141),\n ('wkg:10002831112', 'wkgs:addrPlace', 'wkg:4706877564', 2.182753214393141),\n ('wkg:10002831113', 'wkgs:addrPlace', 'wkg:4706877564', 2.182753214393141),\n ('wkg:10002831114', 'wkgs:addrPlace', 'wkg:4706877564', 2.182753214393141),\n ('wkg:10002831115', 'wkgs:addrPlace', 'wkg:4706877564', 2.182753214393141),\n ('wkg:10002831116', 'wkgs:addrPlace', 'wkg:4706877564', 2.182753214393141),\n ('wkg:10002831117', 'wkgs:addrPlace', 'wkg:4706877564', 2.182753214393141),\n ('wkg:10002831118', 'wkgs:addrPlace', 'wkg:4706877564', 2.182753214393141),\n ('wkg:10002831119', 'wkgs:addrPlace', 'wkg:4706877564', 2.182753214393141),\n ('wkg:10002831120', 'wkgs:addrPlace', 'wkg:4706877564', 2.182753214393141),\n ('wkg:10002831121', 'wkgs:addrPlace', 'wkg:4706877564', 2.182753214393141),\n ('wkg:10002831122', 'wkgs:addrPlace', 'wkg:4706877564', 2.182753214393141),\n ('wkg:10002831123', 'wkgs:addrPlace', 'wkg:4706877564', 2.182753214393141),\n ('wkg:10002831124', 'wkgs:addrPlace', 'wkg:4706877564', 2.182753214393141),\n ('wkg:10002831125', 'wkgs:addrPlace', 'wkg:4706877564', 2.182753214393141),\n ('wkg:10002831126', 'wkgs:addrPlace', 'wkg:4706877564', 2.182753214393141),\n ('wkg:10002831127', 'wkgs:addrPlace', 'wkg:4706877564', 2.182753214393141),\n ('wkg:10002831128', 'wkgs:addrPlace', 'wkg:4706877564', 2.182753214393141),\n ('wkg:10002831129', 'wkgs:addrPlace', 'wkg:4706877564', 2.182753214393141),\n ('wkg:10002831130', 'wkgs:addrPlace', 'wkg:4706877564', 2.182753214393141),\n ('wkg:10002831131', 'wkgs:addrPlace', 'wkg:4706877564', 2.182753214393141),\n ('wkg:10002831132', 'wkgs:addrPlace', 'wkg:4706877564', 2.182753214393141),\n ('wkg:10002831133', 'wkgs:addrPlace', 'wkg:4706877564', 2.182753214393141),\n ('wkg:10002834917', 'wkgs:addrPlace', 'wkg:4706877564', 2.182753214393141),\n ('wkg:10002864892', 'wkgs:addrPlace', 'wkg:4706877564', 2.182753214393141),\n ('wkg:10002864893', 'wkgs:addrPlace', 'wkg:4706877564', 2.182753214393141),\n ('wkg:10002864894', 'wkgs:addrPlace', 'wkg:4706877564', 2.182753214393141),\n ('wkg:10002872517', 'wkgs:addrPlace', 'wkg:4706877564', 2.182753214393141),\n ('wkg:10002872518', 'wkgs:addrPlace', 'wkg:4706877564', 2.182753214393141),\n ('wkg:10002872519', 'wkgs:addrPlace', 'wkg:4706877564', 2.182753214393141),\n ('wkg:10002872520', 'wkgs:addrPlace', 'wkg:4706877564', 2.182753214393141),\n ('wkg:10002872521', 'wkgs:addrPlace', 'wkg:4706877564', 2.182753214393141),\n ('wkg:10002872522', 'wkgs:addrPlace', 'wkg:4706877564', 2.182753214393141),\n ('wkg:10002872523', 'wkgs:addrPlace', 'wkg:4706877564', 2.182753214393141),\n ('wkg:10002872524', 'wkgs:addrPlace', 'wkg:4706877564', 2.182753214393141),\n ('wkg:10002872525', 'wkgs:addrPlace', 'wkg:4706877564', 2.182753214393141),\n ('wkg:10002872526', 'wkgs:addrPlace', 'wkg:4706877564', 2.182753214393141),\n ('wkg:10002872527', 'wkgs:addrPlace', 'wkg:4706877564', 2.182753214393141),\n ('wkg:10002876602', 'wkgs:addrPlace', 'wkg:4706877564', 2.182753214393141),\n ('wkg:10002876603', 'wkgs:addrPlace', 'wkg:4706877564', 2.182753214393141),\n ('wkg:10002876604', 'wkgs:addrPlace', 'wkg:4706877564', 2.182753214393141),\n ('wkg:10002876605', 'wkgs:addrPlace', 'wkg:4706877564', 2.182753214393141),\n ('wkg:10002876606', 'wkgs:addrPlace', 'wkg:4706877564', 2.182753214393141),\n ('wkg:10002878250', 'wkgs:addrPlace', 'wkg:4706877564', 2.182753214393141),\n ('wkg:10043343482', 'wkgs:addrPlace', 'wkg:1313773886', 2.366459935733383),\n ('wkg:10075677479', 'wkgs:addrPlace', 'wkg:92735410', 2.0193287753247),\n ('wkg:10075677572', 'wkgs:addrPlace', 'wkg:92735410', 2.0193287753247),\n ('wkg:10075677720', 'wkgs:addrPlace', 'wkg:92735410', 2.0193287753247),\n ('wkg:10075677742', 'wkgs:addrPlace', 'wkg:92735410', 2.0193287753247),\n ('wkg:10075677868', 'wkgs:addrPlace', 'wkg:92735410', 2.0193287753247),\n ('wkg:10075678095', 'wkgs:addrPlace', 'wkg:92735410', 2.0193287753247),\n ('wkg:10078329812', 'wkgs:addrPlace', 'wkg:4304278502', 2.079057781829665),\n ('wkg:10078330115', 'wkgs:addrPlace', 'wkg:4304278502', 2.079057781829665),\n ('wkg:10112398313', 'wkgs:addrPlace', 'wkg:3378285660', 2.0342335401047906),\n ('wkg:10180378068', 'wkgs:addrPlace', 'wkg:2121734029', 2.2723969773319705),\n ('wkg:10180378069', 'wkgs:addrPlace', 'wkg:2121734029', 2.2723969773319705),\n ('wkg:10237528385', 'wkgs:addrPlace', 'wkg:711463844', 2.3412860381959053),\n ('wkg:10237528386', 'wkgs:addrPlace', 'wkg:711463844', 2.3412860381959053),\n ('wkg:10237762603', 'wkgs:addrPlace', 'wkg:711463844', 2.3412860381959053),\n ('wkg:10237762604', 'wkgs:addrPlace', 'wkg:711463844', 2.3412860381959053),\n ('wkg:10237762605', 'wkgs:addrPlace', 'wkg:711463844', 2.3412860381959053),\n ('wkg:10237762606', 'wkgs:addrPlace', 'wkg:711463844', 2.3412860381959053),\n ('wkg:10237762608', 'wkgs:addrPlace', 'wkg:711463844', 2.3412860381959053),\n ('wkg:10237833609', 'wkgs:addrPlace', 'wkg:711463844', 2.3412860381959053),\n ('wkg:10237833616', 'wkgs:addrPlace', 'wkg:711463844', 2.3412860381959053),\n ('wkg:10237833617', 'wkgs:addrPlace', 'wkg:711463844', 2.3412860381959053),\n ('wkg:10237833620', 'wkgs:addrPlace', 'wkg:711463844', 2.3412860381959053),\n ('wkg:10237833621', 'wkgs:addrPlace', 'wkg:711463844', 2.3412860381959053),\n ('wkg:10237833622', 'wkgs:addrPlace', 'wkg:711463844', 2.3412860381959053),\n ('wkg:10242360244', 'wkgs:addrPlace', 'wkg:9032308826', 2.0127768824067207),\n ('wkg:10242360245', 'wkgs:addrPlace', 'wkg:9032308826', 2.0127768824067207),\n ('wkg:10242360246', 'wkgs:addrPlace', 'wkg:9032308826', 2.0127768824067207),\n ('wkg:10242360247', 'wkgs:addrPlace', 'wkg:9032308826', 2.0127768824067207),\n ('wkg:10242360248', 'wkgs:addrPlace', 'wkg:9032308826', 2.0127768824067207),\n ('wkg:10242360249', 'wkgs:addrPlace', 'wkg:9032308826', 2.0127768824067207),\n ('wkg:10242360250', 'wkgs:addrPlace', 'wkg:9032308826', 2.0127768824067207),\n ('wkg:10242360251', 'wkgs:addrPlace', 'wkg:9032308826', 2.0127768824067207),\n ('wkg:10242360252', 'wkgs:addrPlace', 'wkg:9032308826', 2.0127768824067207),\n ('wkg:10242360253', 'wkgs:addrPlace', 'wkg:9032308826', 2.0127768824067207),\n ('wkg:10242360254', 'wkgs:addrPlace', 'wkg:9032308826', 2.0127768824067207),\n ('wkg:10242360255', 'wkgs:addrPlace', 'wkg:9032308826', 2.0127768824067207),\n ('wkg:10242360256', 'wkgs:addrPlace', 'wkg:9032308826', 2.0127768824067207),\n ('wkg:10242360257', 'wkgs:addrPlace', 'wkg:9032308826', 2.0127768824067207),\n ('wkg:10242360258', 'wkgs:addrPlace', 'wkg:9032308826', 2.0127768824067207),\n ('wkg:10242360259', 'wkgs:addrPlace', 'wkg:9032308826', 2.0127768824067207),\n ('wkg:10242360260', 'wkgs:addrPlace', 'wkg:9032308826', 2.0127768824067207),\n ('wkg:10242360261', 'wkgs:addrPlace', 'wkg:9032308826', 2.0127768824067207),\n ('wkg:10242360262', 'wkgs:addrPlace', 'wkg:9032308826', 2.0127768824067207),\n ('wkg:10242360263', 'wkgs:addrPlace', 'wkg:9032308826', 2.0127768824067207),\n ('wkg:10242360264', 'wkgs:addrPlace', 'wkg:9032308826', 2.0127768824067207),\n ('wkg:10242360265', 'wkgs:addrPlace', 'wkg:9032308826', 2.0127768824067207),\n ('wkg:10250378231', 'wkgs:addrPlace', 'wkg:711463844', 2.3412860381959053),\n ('wkg:10250378232', 'wkgs:addrPlace', 'wkg:711463844', 2.3412860381959053),\n ('wkg:10250378233', 'wkgs:addrPlace', 'wkg:711463844', 2.3412860381959053),\n ('wkg:10250378234', 'wkgs:addrPlace', 'wkg:711463844', 2.3412860381959053),\n ('wkg:10250378245', 'wkgs:addrPlace', 'wkg:711463844', 2.3412860381959053),\n ('wkg:10250378246', 'wkgs:addrPlace', 'wkg:711463844', 2.3412860381959053),\n ('wkg:10250378247', 'wkgs:addrPlace', 'wkg:711463844', 2.3412860381959053),\n ('wkg:10250378248', 'wkgs:addrPlace', 'wkg:711463844', 2.3412860381959053),\n ('wkg:10250378249', 'wkgs:addrPlace', 'wkg:711463844', 2.3412860381959053),\n ('wkg:10250378250', 'wkgs:addrPlace', 'wkg:711463844', 2.3412860381959053),\n ('wkg:10250378251', 'wkgs:addrPlace', 'wkg:711463844', 2.3412860381959053),\n ('wkg:10250378252', 'wkgs:addrPlace', 'wkg:711463844', 2.3412860381959053),\n ('wkg:10250378253', 'wkgs:addrPlace', 'wkg:711463844', 2.3412860381959053),\n ('wkg:10250378254', 'wkgs:addrPlace', 'wkg:711463844', 2.3412860381959053),\n ('wkg:10250378255', 'wkgs:addrPlace', 'wkg:711463844', 2.3412860381959053),\n ('wkg:10250378256', 'wkgs:addrPlace', 'wkg:711463844', 2.3412860381959053),\n ('wkg:10271820438', 'wkgs:addrPlace', 'wkg:10222143928', 2.3722370991112505),\n ('wkg:10310642333', 'wkgs:addrPlace', 'wkg:4345727504', 2.0749758962146987),\n ('wkg:10310642361', 'wkgs:addrPlace', 'wkg:4345727504', 2.0749758962146987),\n ('wkg:10588863596', 'wkgs:addrPlace', 'wkg:1859062620', 2.211991820741752),\n ('wkg:10588863597', 'wkgs:addrPlace', 'wkg:1859062620', 2.211991820741752),\n ('wkg:10588863598', 'wkgs:addrPlace', 'wkg:1859062620', 2.211991820741752),\n ('wkg:10588863599', 'wkgs:addrPlace', 'wkg:1859062620', 2.211991820741752),\n ('wkg:10588920941', 'wkgs:addrPlace', 'wkg:1859062620', 2.211991820741752),\n ('wkg:10593807682', 'wkgs:addrPlace', 'wkg:1859062620', 2.211991820741752),\n ('wkg:10599701295', 'wkgs:addrPlace', 'wkg:8050056705', 2.3109085595227863),\n ('wkg:10599701296', 'wkgs:addrPlace', 'wkg:8050056705', 2.3109085595227863),\n ('wkg:10603738461', 'wkgs:addrPlace', 'wkg:1859062620', 2.211991820741752),\n ('wkg:10608612061', 'wkgs:addrPlace', 'wkg:5911073220', 2.3109085595227854),\n ('wkg:10675910501', 'wkgs:addrPlace', 'wkg:504490581', 2.0193287753247007),\n ('wkg:10688206283', 'wkgs:addrPlace', 'wkg:842977165', 2.034233540104791),\n ('wkg:10688206284', 'wkgs:addrPlace', 'wkg:842977165', 2.034233540104791),\n ('wkg:10688206285', 'wkgs:addrPlace', 'wkg:842977165', 2.034233540104791),\n ('wkg:10688206286', 'wkgs:addrPlace', 'wkg:842977165', 2.034233540104791),\n ('wkg:10688206287', 'wkgs:addrPlace', 'wkg:842977165', 2.034233540104791),\n ('wkg:10688206288', 'wkgs:addrPlace', 'wkg:842977165', 2.034233540104791),\n ('wkg:10688206289', 'wkgs:addrPlace', 'wkg:842977165', 2.034233540104791),\n ('wkg:10688206290', 'wkgs:addrPlace', 'wkg:842977165', 2.034233540104791),\n ('wkg:10688206291', 'wkgs:addrPlace', 'wkg:842977165', 2.034233540104791),\n ('wkg:10688206292', 'wkgs:addrPlace', 'wkg:842977165', 2.034233540104791),\n ('wkg:10688206293', 'wkgs:addrPlace', 'wkg:842977165', 2.034233540104791),\n ('wkg:10811010352', 'wkgs:addrPlace', 'wkg:1859062620', 2.211991820741752),\n ('wkg:10811432559', 'wkgs:addrPlace', 'wkg:1859062620', 2.211991820741752),\n ('wkg:10845949998', 'wkgs:addrPlace', 'wkg:1859062620', 2.211991820741752),\n ('wkg:10853198622', 'wkgs:addrPlace', 'wkg:1859062620', 2.211991820741752),\n ('wkg:10911586777', 'wkgs:addrPlace', 'wkg:1877812353', 2.019328775324701),\n ('wkg:10911586778', 'wkgs:addrPlace', 'wkg:1877812353', 2.019328775324701),\n ('wkg:10911586779', 'wkgs:addrPlace', 'wkg:1877812353', 2.019328775324701),\n ('wkg:10911586780', 'wkgs:addrPlace', 'wkg:1877812353', 2.019328775324701),\n ('wkg:10911586781', 'wkgs:addrPlace', 'wkg:1877812353', 2.019328775324701),\n ('wkg:10911586782', 'wkgs:addrPlace', 'wkg:1877812353', 2.019328775324701),\n ('wkg:10933781798', 'wkgs:addrPlace', 'wkg:4492977128', 2.3109085595227845),\n ('wkg:10933816980', 'wkgs:addrPlace', 'wkg:5435195033', 2.124744605439222),\n ('wkg:10948999839', 'wkgs:addrPlace', 'wkg:2121753699', 2.252497891726753),\n ('wkg:10959453767', 'wkgs:addrPlace', 'wkg:3404722702', 2.04746070743007),\n ('wkg:10959453768', 'wkgs:addrPlace', 'wkg:3404722702', 2.04746070743007),\n ('wkg:10976803265', 'wkgs:addrPlace', 'wkg:1859062620', 2.211991820741752),\n ('wkg:10976816110', 'wkgs:addrPlace', 'wkg:1859062620', 2.211991820741752),\n ('wkg:10980961557', 'wkgs:addrPlace', 'wkg:1859062620', 2.211991820741752),\n ('wkg:10982600738', 'wkgs:addrPlace', 'wkg:1859062620', 2.211991820741752),\n ('wkg:10983551396', 'wkgs:addrPlace', 'wkg:1859062620', 2.211991820741752),\n ('wkg:10983551397', 'wkgs:addrPlace', 'wkg:1859062620', 2.211991820741752),\n ('wkg:11002116188', 'wkgs:addrPlace', 'wkg:3126388046', 2.3109085595227845),\n ('wkg:11002116189', 'wkgs:addrPlace', 'wkg:3126388046', 2.3109085595227845),\n ('wkg:11016141325', 'wkgs:addrPlace', 'wkg:60953125', 2.0342335401047915),\n ('wkg:11049978458', 'wkgs:addrPlace', 'wkg:4360116908', 2.310908559522785),\n ('wkg:11049978471', 'wkgs:addrPlace', 'wkg:4360116908', 2.310908559522785),\n ('wkg:11061187303', 'wkgs:addrPlace', 'wkg:1859066286', 2.310908559522786),\n ('wkg:11063006814', 'wkgs:addrPlace', 'wkg:8072206732', 2.310908559522786),\n ('wkg:11067194749', 'wkgs:addrPlace', 'wkg:108099359', 2.3704824722347215),\n ('wkg:11067194750', 'wkgs:addrPlace', 'wkg:108099359', 2.3704824722347215),\n ('wkg:11093275391', 'wkgs:addrPlace', 'wkg:307822936', 2.269493419455569),\n ('wkg:11107327926', 'wkgs:addrPlace', 'wkg:2121734029', 2.297211549491992),\n ('wkg:11107327927', 'wkgs:addrPlace', 'wkg:2121734029', 2.297211549491992),\n ('wkg:11107327928', 'wkgs:addrPlace', 'wkg:2121734029', 2.297211549491992),\n ('wkg:11107327929', 'wkgs:addrPlace', 'wkg:2121734029', 2.297211549491992),\n ('wkg:11107327930', 'wkgs:addrPlace', 'wkg:2121734029', 2.297211549491992),\n ('wkg:11107327931', 'wkgs:addrPlace', 'wkg:2121734029', 2.297211549491992),\n ('wkg:11107327932', 'wkgs:addrPlace', 'wkg:2121734029', 2.297211549491992),\n ('wkg:11107327933', 'wkgs:addrPlace', 'wkg:2121734029', 2.297211549491992),\n ('wkg:11107327934', 'wkgs:addrPlace', 'wkg:2121734029', 2.297211549491992),\n ('wkg:11107327935', 'wkgs:addrPlace', 'wkg:2121734029', 2.297211549491992),\n ('wkg:11107327936', 'wkgs:addrPlace', 'wkg:2121734029', 2.297211549491992),\n ('wkg:11107327937', 'wkgs:addrPlace', 'wkg:2121734029', 2.297211549491992),\n ('wkg:11107327942', 'wkgs:addrPlace', 'wkg:2121734029', 2.297211549491992),\n ('wkg:11107327943', 'wkgs:addrPlace', 'wkg:2121734029', 2.297211549491992),\n ('wkg:11107327948', 'wkgs:addrPlace', 'wkg:2121734029', 2.297211549491992),\n ('wkg:11107327949', 'wkgs:addrPlace', 'wkg:2121734029', 2.297211549491992),\n ('wkg:11147638140', 'wkgs:addrPlace', 'wkg:9462917727', 2.061650003454736),\n ('wkg:11149814045', 'wkgs:addrPlace', 'wkg:1989689405', 2.2082255366658563),\n ('wkg:11149814046', 'wkgs:addrPlace', 'wkg:1989689405', 2.2082255366658563),\n ('wkg:11164868986', 'wkgs:addrPlace', 'wkg:1859062620', 2.211991820741752),\n ('wkg:11180427899', 'wkgs:addrPlace', 'wkg:8072206732', 2.310908559522786),\n ('wkg:1152480975', 'wkgs:addrPlace', 'wkg:3307775328', 2.37223709911125),\n ('wkg:1328766577', 'wkgs:addrPlace', 'wkg:4071747142', 2.3109085595227854),\n ('wkg:1328766580', 'wkgs:addrPlace', 'wkg:4071747142', 2.3109085595227854),\n ('wkg:1332024214', 'wkgs:addrPlace', 'wkg:4345727504', 2.0749758962146987),\n ('wkg:1332392712', 'wkgs:addrPlace', 'wkg:4805663771', 2.0342335401047924),\n ('wkg:1358143547', 'wkgs:addrPlace', 'wkg:1280151944', 2.1940155331636917),\n ('wkg:1396502868', 'wkgs:addrPlace', 'wkg:811465751', 2.3412860381959057),\n ('wkg:1398446939', 'wkgs:addrPlace', 'wkg:1667258064', 2.3109085595227863),\n ('wkg:1477751849', 'wkgs:addrPlace', 'wkg:5973300652', 1.9028744241967397),\n ('wkg:1525418694', 'wkgs:addrPlace', 'wkg:1390430132', 2.0827292754120683),\n ('wkg:1540777380', 'wkgs:addrPlace', 'wkg:6388049714', 2.3496615129376646),\n ('wkg:1680928650', 'wkgs:addrPlace', 'wkg:3400261399', 2.2776212864997056),\n ('wkg:1783463679', 'wkgs:addrPlace', 'wkg:3456905649', 2.3109085595227854),\n ('wkg:1859038818', 'wkgs:addrPlace', 'wkg:108099359', 2.3704824722347215),\n ('wkg:1859042255', 'wkgs:addrPlace', 'wkg:108099359', 2.3704824722347215),\n ('wkg:1859059705', 'wkgs:addrPlace', 'wkg:1859062620', 2.211991820741752),\n ('wkg:1859060367', 'wkgs:addrPlace', 'wkg:1859062620', 2.211991820741752),\n ('wkg:1859061873', 'wkgs:addrPlace', 'wkg:1859062620', 2.211991820741752),\n ('wkg:1859062044', 'wkgs:addrPlace', 'wkg:1859062620', 2.211991820741752),\n ('wkg:1859075546', 'wkgs:addrPlace', 'wkg:1859062620', 2.211991820741752),\n ('wkg:1859269948', 'wkgs:addrPlace', 'wkg:3404722702', 2.04746070743007),\n ('wkg:1859271000', 'wkgs:addrPlace', 'wkg:8119035687', 2.310908559522785),\n ('wkg:1859271407', 'wkgs:addrPlace', 'wkg:8119035687', 2.310908559522785),\n ('wkg:1859271682', 'wkgs:addrPlace', 'wkg:8119035687', 2.310908559522785),\n ('wkg:1859293279', 'wkgs:addrPlace', 'wkg:1762298072', 2.3109085595227854),\n ('wkg:1859305741', 'wkgs:addrPlace', 'wkg:1645653773', 2.310908559522785),\n ('wkg:1859323847', 'wkgs:addrPlace', 'wkg:3126388046', 2.3109085595227845),\n ('wkg:1860328859', 'wkgs:addrPlace', 'wkg:1859062620', 2.211991820741752),\n ('wkg:1860343582', 'wkgs:addrPlace', 'wkg:16191048', 2.2456794992198974),\n ('wkg:1860345469', 'wkgs:addrPlace', 'wkg:1762243740', 2.341286038195905),\n ('wkg:1865766977', 'wkgs:addrPlace', 'wkg:1313773886', 2.3654120149153224),\n ('wkg:206173164', 'wkgs:addrPlace', 'wkg:5911073220', 2.3109085595227854),\n ('wkg:2115465329', 'wkgs:addrPlace', 'wkg:2961073035', 2.2022456608710153),\n ('wkg:2115465331', 'wkgs:addrPlace', 'wkg:2961073035', 2.2022456608710153),\n ('wkg:2228208996', 'wkgs:addrPlace', 'wkg:813595746', 2.034233540104792),\n ('wkg:2283257698', 'wkgs:addrPlace', 'wkg:5911073220', 2.3109085595227854),\n ('wkg:2283262062', 'wkgs:addrPlace', 'wkg:5911073220', 2.3109085595227854),\n ('wkg:2291770199', 'wkgs:addrPlace', 'wkg:1362760677', 2.3918192440134995),\n ('wkg:2347696002', 'wkgs:addrPlace', 'wkg:1930151944', 2.0193287753247002),\n ('wkg:2416792637', 'wkgs:addrPlace', 'wkg:4345727504', 2.0749758962146987),\n ('wkg:2428436273', 'wkgs:addrPlace', 'wkg:333994217', 2.0193287753247002),\n ('wkg:2429398695', 'wkgs:addrPlace', 'wkg:1351598753', 2.391819244013499),\n ('wkg:2429441488', 'wkgs:addrPlace', 'wkg:6388049714', 2.3496615129376646),\n ('wkg:2432429549', 'wkgs:addrPlace', 'wkg:1683998398', 2.310908559522786),\n ('wkg:2441419218', 'wkgs:addrPlace', 'wkg:4492977128', 2.3109085595227845),\n ('wkg:2441419219', 'wkgs:addrPlace', 'wkg:4492977128', 2.3109085595227845),\n ('wkg:2444492294', 'wkgs:addrPlace', 'wkg:4384738366', 2.3412860381959066),\n ('wkg:2459141414', 'wkgs:addrPlace', 'wkg:240093037', 2.0193287753247007),\n ('wkg:2462992483', 'wkgs:addrPlace', 'wkg:3700715328', 1.9652975227352973),\n ('wkg:2476370197', 'wkgs:addrPlace', 'wkg:288288440', 2.3918192440135),\n ('wkg:2525570100', 'wkgs:addrPlace', 'wkg:6532859771', 2.0463014658760303),\n ('wkg:2580736678', 'wkgs:addrPlace', 'wkg:1762269027', 2.310908559522785),\n ('wkg:258894197', 'wkgs:addrPlace', 'wkg:5911073220', 2.2328472539465976),\n ('wkg:2593650096', 'wkgs:addrPlace', 'wkg:1351598753', 2.391819244013499),\n ('wkg:2641808992', 'wkgs:addrPlace', 'wkg:5345743494', 2.2841335727411605),\n ('wkg:2888791355', 'wkgs:addrPlace', 'wkg:1762269009', 2.310908559522785),\n ('wkg:2907847801', 'wkgs:addrPlace', 'wkg:1313773886', 2.3691898422722666),\n ('wkg:301362156', 'wkgs:addrPlace', 'wkg:3456905649', 2.3109085595227854),\n ('wkg:3016251611', 'wkgs:addrPlace', 'wkg:2121734029', 2.297211549491992),\n ('wkg:3103475123', 'wkgs:addrPlace', 'wkg:376669430', 2.034233540104791),\n ('wkg:3103476759', 'wkgs:addrPlace', 'wkg:376669430', 2.034233540104791),\n ('wkg:3103476941', 'wkgs:addrPlace', 'wkg:376669430', 2.034233540104791),\n ('wkg:319272091', 'wkgs:addrPlace', 'wkg:1313773886', 2.3592542056152004),\n ('wkg:319272094', 'wkgs:addrPlace', 'wkg:1313773886', 2.3592542056152004),\n ('wkg:319272096', 'wkgs:addrPlace', 'wkg:1313773886', 2.3592542056152004),\n ('wkg:3204207238', 'wkgs:addrPlace', 'wkg:297307503', 2.0193287753247002),\n ('wkg:322852765', 'wkgs:addrPlace', 'wkg:1313773886', 2.333296789392978),\n ('wkg:322852770', 'wkgs:addrPlace', 'wkg:1313773886', 2.333296789392978),\n ('wkg:322852773', 'wkgs:addrPlace', 'wkg:1313773886', 2.333296789392978),\n ('wkg:322852777', 'wkgs:addrPlace', 'wkg:1313773886', 2.333296789392978),\n ('wkg:322852778', 'wkgs:addrPlace', 'wkg:1313773886', 2.333296789392978),\n ('wkg:3370375930', 'wkgs:addrPlace', 'wkg:8119035687', 2.310908559522785),\n ('wkg:3373420894', 'wkgs:addrPlace', 'wkg:1693902774', 2.310908559522786),\n ('wkg:3380936853', 'wkgs:addrPlace', 'wkg:4802310341', 2.310908559522786),\n ('wkg:3382873222', 'wkgs:addrPlace', 'wkg:1678451749', 2.310908559522786),\n ('wkg:3408422810', 'wkgs:addrPlace', 'wkg:3700712190', 2.0193287753247002),\n ('wkg:3408446564', 'wkgs:addrPlace', 'wkg:3561112468', 2.310908559522785),\n ('wkg:3415623723', 'wkgs:addrPlace', 'wkg:2274413407', 2.0783670834479446),\n ('wkg:3416371305', 'wkgs:addrPlace', 'wkg:1859062620', 2.211991820741752),\n ('wkg:3442399595', 'wkgs:addrPlace', 'wkg:711463609', 2.0193287753247007),\n ('wkg:3442399596', 'wkgs:addrPlace', 'wkg:711463609', 2.0193287753247007),\n ('wkg:3442399597', 'wkgs:addrPlace', 'wkg:711463609', 2.0193287753247007),\n ('wkg:3442400605', 'wkgs:addrPlace', 'wkg:711463609', 2.0193287753247007),\n ('wkg:3442400606', 'wkgs:addrPlace', 'wkg:711463609', 2.0193287753247007),\n ('wkg:3442403211', 'wkgs:addrPlace', 'wkg:711463609', 2.0193287753247007),\n ('wkg:3442403212', 'wkgs:addrPlace', 'wkg:711463609', 2.0193287753247007),\n ('wkg:3442408370', 'wkgs:addrPlace', 'wkg:711463609', 2.0193287753247007),\n ('wkg:3442408371', 'wkgs:addrPlace', 'wkg:711463609', 2.0193287753247007),\n ('wkg:3442408372', 'wkgs:addrPlace', 'wkg:711463609', 2.0193287753247007),\n ('wkg:3442408373', 'wkgs:addrPlace', 'wkg:711463609', 2.0193287753247007),\n ('wkg:3452083649', 'wkgs:addrPlace', 'wkg:1762209212', 2.310908559522785),\n ('wkg:3454376917', 'wkgs:addrPlace', 'wkg:2121764205', 2.316409093107681),\n ('wkg:3467276426', 'wkgs:addrPlace', 'wkg:773148786', 2.0342335401047915),\n ('wkg:3496454845', 'wkgs:addrPlace', 'wkg:1771635750', 2.0193287753247007),\n ('wkg:3497163292', 'wkgs:addrPlace', 'wkg:6050905236', 2.3109085595227854),\n ('wkg:3522365815', 'wkgs:addrPlace', 'wkg:1688807991', 2.310908559522785),\n ('wkg:3609669616', 'wkgs:addrPlace', 'wkg:1313773886', 2.3638650325692403),\n ('wkg:3609669626', 'wkgs:addrPlace', 'wkg:92770795', 2.019328775324701),\n ('wkg:3609699396', 'wkgs:addrPlace', 'wkg:1313773886', 2.3638650325692403),\n ('wkg:3609699401', 'wkgs:addrPlace', 'wkg:1313773886', 2.3638650325692403),\n ('wkg:3609699408', 'wkgs:addrPlace', 'wkg:1313773886', 2.3638650325692403),\n ('wkg:3609699610', 'wkgs:addrPlace', 'wkg:1313773886', 2.3638650325692403),\n ('wkg:3609699699', 'wkgs:addrPlace', 'wkg:92770795', 2.019328775324701),\n ('wkg:3609700401', 'wkgs:addrPlace', 'wkg:1313773886', 2.3638650325692403),\n ('wkg:3609745212', 'wkgs:addrPlace', 'wkg:1313773886', 2.3638650325692403),\n ('wkg:3609745226', 'wkgs:addrPlace', 'wkg:1313773886', 2.3638650325692403),\n ('wkg:3614930371', 'wkgs:addrPlace', 'wkg:1313773886', 2.3101780061786577),\n ('wkg:3614931566', 'wkgs:addrPlace', 'wkg:1313773886', 2.3101780061786577),\n ('wkg:3615092192', 'wkgs:addrPlace', 'wkg:1662154427', 2.0342335401047915),\n ('wkg:3615095653', 'wkgs:addrPlace', 'wkg:1662154427', 2.0342335401047915),\n ('wkg:3615096097', 'wkgs:addrPlace', 'wkg:1662154427', 2.0342335401047915),\n ('wkg:3615096157', 'wkgs:addrPlace', 'wkg:1662154427', 2.0342335401047915),\n ('wkg:3615096178', 'wkgs:addrPlace', 'wkg:1662154427', 2.0342335401047915),\n ('wkg:3615096784', 'wkgs:addrPlace', 'wkg:1662154427', 2.0342335401047915),\n ('wkg:3615097401', 'wkgs:addrPlace', 'wkg:1662154427', 2.0342335401047915),\n ('wkg:3615097501', 'wkgs:addrPlace', 'wkg:1662154427', 2.0342335401047915),\n ('wkg:3615097704', 'wkgs:addrPlace', 'wkg:1662154427', 2.0342335401047915),\n ('wkg:3615097896', 'wkgs:addrPlace', 'wkg:1662154427', 2.0342335401047915),\n ('wkg:3615098356', 'wkgs:addrPlace', 'wkg:1662154427', 2.0342335401047915),\n ('wkg:3615098500', 'wkgs:addrPlace', 'wkg:3008699538', 2.175657549855709),\n ('wkg:3615098502', 'wkgs:addrPlace', 'wkg:1662154427', 2.0342335401047915),\n ('wkg:3619688833', 'wkgs:addrPlace', 'wkg:1313773886', 2.3633238823866254),\n ('wkg:3619688840', 'wkgs:addrPlace', 'wkg:1313773886', 2.366712428726387),\n ('wkg:3619688841', 'wkgs:addrPlace', 'wkg:406883649', 2.2526031987472894),\n ('wkg:3619688843', 'wkgs:addrPlace', 'wkg:406883649', 2.2526031987472894),\n ('wkg:3619688870', 'wkgs:addrPlace', 'wkg:1313773886', 2.366712428726387),\n ('wkg:3619688871', 'wkgs:addrPlace', 'wkg:1313773886', 2.3756390377978422),\n ('wkg:3619688897', 'wkgs:addrPlace', 'wkg:1313773886', 2.366712428726387),\n ('wkg:3619688903', 'wkgs:addrPlace', 'wkg:1313773886', 2.366459935733383),\n ('wkg:3619688905', 'wkgs:addrPlace', 'wkg:1313773886', 2.366459935733383),\n ('wkg:3619688906', 'wkgs:addrPlace', 'wkg:1313773886', 2.366459935733383),\n ('wkg:3619688907', 'wkgs:addrPlace', 'wkg:1313773886', 2.366459935733383),\n ('wkg:3619688908', 'wkgs:addrPlace', 'wkg:1313773886', 2.366459935733383),\n ('wkg:3619688909', 'wkgs:addrPlace', 'wkg:1313773886', 2.366459935733383),\n ('wkg:3619688910', 'wkgs:addrPlace', 'wkg:1313773886', 2.366459935733383),\n ('wkg:3619688916', 'wkgs:addrPlace', 'wkg:1313773886', 2.366712428726387),\n ('wkg:3619688917', 'wkgs:addrPlace', 'wkg:1313773886', 2.366459935733383),\n ('wkg:3619688918', 'wkgs:addrPlace', 'wkg:1313773886', 2.366459935733383),\n ('wkg:3619688919', 'wkgs:addrPlace', 'wkg:1313773886', 2.366459935733383),\n ('wkg:3619688920', 'wkgs:addrPlace', 'wkg:1313773886', 2.366459935733383),\n ('wkg:3619688923', 'wkgs:addrPlace', 'wkg:1313773886', 2.3166971153078983),\n ('wkg:3619688924', 'wkgs:addrPlace', 'wkg:1313773886', 2.3166971153078983),\n ('wkg:3619688925', 'wkgs:addrPlace', 'wkg:1313773886', 2.3166971153078983),\n ('wkg:3619688926', 'wkgs:addrPlace', 'wkg:1313773886', 2.3166971153078983),\n ('wkg:3619688933', 'wkgs:addrPlace', 'wkg:1313773886', 2.366712428726387),\n ('wkg:3619688934', 'wkgs:addrPlace', 'wkg:1313773886', 2.3166971153078983),\n ('wkg:3619688935', 'wkgs:addrPlace', 'wkg:1313773886', 2.322553314857519),\n ('wkg:3619688936', 'wkgs:addrPlace', 'wkg:1313773886', 2.322553314857519),\n ('wkg:3619688937', 'wkgs:addrPlace', 'wkg:1313773886', 2.322553314857519),\n ('wkg:3619688938', 'wkgs:addrPlace', 'wkg:1313773886', 2.322553314857519),\n ('wkg:3619688939', 'wkgs:addrPlace', 'wkg:1313773886', 2.322553314857519),\n ('wkg:3619688940', 'wkgs:addrPlace', 'wkg:1313773886', 2.322553314857519),\n ('wkg:3619688941', 'wkgs:addrPlace', 'wkg:1313773886', 2.322553314857519),\n ('wkg:3619688947', 'wkgs:addrPlace', 'wkg:1313773886', 2.366712428726387),\n ('wkg:3619688948', 'wkgs:addrPlace', 'wkg:283061702', 2.3060862187790696),\n ('wkg:3619688954', 'wkgs:addrPlace', 'wkg:1313773886', 2.366712428726387),\n ('wkg:3619688964', 'wkgs:addrPlace', 'wkg:1313773886', 2.366712428726387),\n ('wkg:3619688970', 'wkgs:addrPlace', 'wkg:1313773886', 2.366712428726387),\n ('wkg:3619688983', 'wkgs:addrPlace', 'wkg:1313773886', 2.3633238823866254),\n ('wkg:3619688987', 'wkgs:addrPlace', 'wkg:1313773886', 2.3633238823866254),\n ('wkg:3619689047', 'wkgs:addrPlace', 'wkg:283061702', 2.296207804068878),\n ('wkg:3619689052', 'wkgs:addrPlace', 'wkg:2680278033', 2.37223709911125),\n ('wkg:3619689053', 'wkgs:addrPlace', 'wkg:2680270195', 2.37223709911125),\n ('wkg:3619689059', 'wkgs:addrPlace', 'wkg:1313773886', 2.3633238823866254),\n ('wkg:3619689062', 'wkgs:addrPlace', 'wkg:1313773886', 2.3756390377978422),\n ('wkg:3619689068', 'wkgs:addrPlace', 'wkg:2680278033', 2.37223709911125),\n ('wkg:3619689069', 'wkgs:addrPlace', 'wkg:2680270195', 2.37223709911125),\n ('wkg:3619689075', 'wkgs:addrPlace', 'wkg:1313773886', 2.3624237836309936),\n ('wkg:3619689081', 'wkgs:addrPlace', 'wkg:1313773886', 2.3624237836309936),\n ('wkg:3619689090', 'wkgs:addrPlace', 'wkg:1313773886', 2.366712428726387),\n ('wkg:3619689091', 'wkgs:addrPlace', 'wkg:1313773886', 2.3624237836309936),\n ('wkg:3619689197', 'wkgs:addrPlace', 'wkg:1313773886', 2.3624237836309936),\n ('wkg:3619689200', 'wkgs:addrPlace', 'wkg:1313773886', 2.3624237836309936),\n ('wkg:3619689206', 'wkgs:addrPlace', 'wkg:1313773886', 2.3624237836309936),\n ('wkg:3619689212', 'wkgs:addrPlace', 'wkg:283061702', 2.3060862187790696),\n ('wkg:3619689223', 'wkgs:addrPlace', 'wkg:283061702', 2.3060862187790696),\n ('wkg:3619689228', 'wkgs:addrPlace', 'wkg:283061702', 2.3060862187790696),\n ('wkg:3619689235', 'wkgs:addrPlace', 'wkg:1313773886', 2.3633238823866254),\n ('wkg:3619689242', 'wkgs:addrPlace', 'wkg:283061702', 2.3060862187790696),\n ('wkg:3619689247', 'wkgs:addrPlace', 'wkg:283061702', 2.3060862187790696),\n ('wkg:3619689253', 'wkgs:addrPlace', 'wkg:283061702', 2.3060862187790696),\n ('wkg:3619689258', 'wkgs:addrPlace', 'wkg:283061702', 2.3060862187790696),\n ('wkg:3619689263', 'wkgs:addrPlace', 'wkg:283061702', 2.3060862187790696),\n ('wkg:3619689269', 'wkgs:addrPlace', 'wkg:1313773886', 2.3756390377978422),\n ('wkg:3619689274', 'wkgs:addrPlace', 'wkg:1313773886', 2.3756390377978422),\n ('wkg:3619689278', 'wkgs:addrPlace', 'wkg:1313773886', 2.3756390377978422),\n ('wkg:3619689281', 'wkgs:addrPlace', 'wkg:1313773886', 2.3756390377978422),\n ('wkg:3619689286', 'wkgs:addrPlace', 'wkg:376669645', 2.3722370991112496),\n ('wkg:3619689291', 'wkgs:addrPlace', 'wkg:1313773886', 2.3633238823866254),\n ('wkg:3619689297', 'wkgs:addrPlace', 'wkg:376669645', 2.3722370991112496),\n ('wkg:3619689428', 'wkgs:addrPlace', 'wkg:1313773886', 2.3633238823866254),\n ('wkg:3619689431', 'wkgs:addrPlace', 'wkg:1313773886', 2.3609788991346834),\n ('wkg:3619689433', 'wkgs:addrPlace', 'wkg:1313773886', 2.3609788991346834),\n ('wkg:3619689435', 'wkgs:addrPlace', 'wkg:1313773886', 2.3609788991346834),\n ('wkg:3619689437', 'wkgs:addrPlace', 'wkg:1313773886', 2.3609788991346834),\n ('wkg:3619689439', 'wkgs:addrPlace', 'wkg:1313773886', 2.3609788991346834),\n ('wkg:3619689440', 'wkgs:addrPlace', 'wkg:1313773886', 2.3609788991346834),\n ('wkg:3619689443', 'wkgs:addrPlace', 'wkg:1313773886', 2.3609788991346834),\n ('wkg:3619689444', 'wkgs:addrPlace', 'wkg:1313773886', 2.3609788991346834),\n ('wkg:3619689445', 'wkgs:addrPlace', 'wkg:1313773886', 2.3609788991346834),\n ('wkg:3619689446', 'wkgs:addrPlace', 'wkg:1313773886', 2.3609788991346834),\n ('wkg:3619689448', 'wkgs:addrPlace', 'wkg:1313773886', 2.3609788991346834),\n ('wkg:3619689458', 'wkgs:addrPlace', 'wkg:1313773886', 2.3609788991346834),\n ('wkg:3619689460', 'wkgs:addrPlace', 'wkg:1313773886', 2.3609788991346834),\n ('wkg:3619689463', 'wkgs:addrPlace', 'wkg:1313773886', 2.3609788991346834),\n ('wkg:3619689465', 'wkgs:addrPlace', 'wkg:1313773886', 2.3609788991346834),\n ('wkg:3619689466', 'wkgs:addrPlace', 'wkg:406883649', 2.2526031987472894),\n ('wkg:3619689467', 'wkgs:addrPlace', 'wkg:406883649', 2.2526031987472894),\n ('wkg:3619689468', 'wkgs:addrPlace', 'wkg:406883649', 2.2526031987472894),\n ('wkg:3619689469', 'wkgs:addrPlace', 'wkg:406883649', 2.2526031987472894),\n ('wkg:3619689470', 'wkgs:addrPlace', 'wkg:406883649', 2.2526031987472894),\n ('wkg:3619689472', 'wkgs:addrPlace', 'wkg:406883649', 2.2526031987472894),\n ('wkg:3620772095', 'wkgs:addrPlace', 'wkg:1634123525', 2.034233540104791),\n ('wkg:3620772106', 'wkgs:addrPlace', 'wkg:1313773886', 2.344378595462392),\n ('wkg:3620772118', 'wkgs:addrPlace', 'wkg:3707761493', 2.3722370991112514),\n ('wkg:3620772145', 'wkgs:addrPlace', 'wkg:1634123525', 2.034233540104791),\n ('wkg:3620772164', 'wkgs:addrPlace', 'wkg:1634123525', 2.034233540104791),\n ('wkg:3620799135', 'wkgs:addrPlace', 'wkg:1634123525', 2.034233540104791),\n ('wkg:3620799224', 'wkgs:addrPlace', 'wkg:1634123525', 2.034233540104791),\n ('wkg:3620799227', 'wkgs:addrPlace', 'wkg:1634123525', 2.034233540104791),\n ('wkg:3620799234', 'wkgs:addrPlace', 'wkg:309684600', 2.3109085595227845),\n ('wkg:3620799251', 'wkgs:addrPlace', 'wkg:1313773886', 2.3654120149153224),\n ('wkg:3620799280', 'wkgs:addrPlace', 'wkg:1313773886', 2.344378595462392),\n ('wkg:3620799284', 'wkgs:addrPlace', 'wkg:1313773886', 2.344378595462392),\n ('wkg:3620799286', 'wkgs:addrPlace', 'wkg:3707761493', 2.3722370991112514),\n ('wkg:3620799290', 'wkgs:addrPlace', 'wkg:1634123525', 2.034233540104791),\n ('wkg:3620799338', 'wkgs:addrPlace', 'wkg:1313773886', 2.344378595462392),\n ('wkg:3620799354', 'wkgs:addrPlace', 'wkg:3707761493', 2.3722370991112514),\n ('wkg:3620799392', 'wkgs:addrPlace', 'wkg:1634123525', 2.034233540104791),\n ('wkg:3620799513', 'wkgs:addrPlace', 'wkg:1313773886', 2.3654120149153224),\n ('wkg:3620799540', 'wkgs:addrPlace', 'wkg:309684600', 2.3109085595227845),\n ('wkg:3620799558', 'wkgs:addrPlace', 'wkg:1634123525', 2.034233540104791),\n ('wkg:3620799571', 'wkgs:addrPlace', 'wkg:1634123525', 2.034233540104791),\n ('wkg:3620801600', 'wkgs:addrPlace', 'wkg:1634123525', 2.034233540104791),\n ('wkg:3620801624', 'wkgs:addrPlace', 'wkg:1313773886', 2.363378793587611),\n ('wkg:3620801675', 'wkgs:addrPlace', 'wkg:309684600', 2.3109085595227845),\n ('wkg:3620801681', 'wkgs:addrPlace', 'wkg:1634123525', 2.034233540104791),\n ('wkg:3620801686', 'wkgs:addrPlace', 'wkg:1313773886', 2.344378595462392),\n ('wkg:3620801687', 'wkgs:addrPlace', 'wkg:1634123525', 2.034233540104791),\n ('wkg:3620801690', 'wkgs:addrPlace', 'wkg:1634123525', 2.034233540104791),\n ('wkg:3620801733', 'wkgs:addrPlace', 'wkg:1313773886', 2.344378595462392),\n ('wkg:3620801735', 'wkgs:addrPlace', 'wkg:1634123525', 2.034233540104791),\n ('wkg:3620801737', 'wkgs:addrPlace', 'wkg:1313773886', 2.344378595462392),\n ('wkg:3620801740', 'wkgs:addrPlace', 'wkg:1634123525', 2.034233540104791),\n ('wkg:3620801743', 'wkgs:addrPlace', 'wkg:1313773886', 2.344378595462392),\n ('wkg:3620801746', 'wkgs:addrPlace', 'wkg:1634123525', 2.034233540104791),\n ('wkg:3620801873', 'wkgs:addrPlace', 'wkg:1634123525', 2.034233540104791),\n ('wkg:3620801988', 'wkgs:addrPlace', 'wkg:1634123525', 2.034233540104791),\n ('wkg:3620802295', 'wkgs:addrPlace', 'wkg:1634123525', 2.034233540104791),\n ('wkg:3620802311', 'wkgs:addrPlace', 'wkg:1313773886', 2.344378595462392),\n ('wkg:3620802312', 'wkgs:addrPlace', 'wkg:1634123525', 2.034233540104791),\n ('wkg:3620802722', 'wkgs:addrPlace', 'wkg:1634123525', 2.034233540104791),\n ('wkg:3620802723', 'wkgs:addrPlace', 'wkg:309684600', 2.3109085595227845),\n ('wkg:3620806097', 'wkgs:addrPlace', 'wkg:1313773886', 2.344378595462392),\n ('wkg:3620806124', 'wkgs:addrPlace', 'wkg:1313773886', 2.344378595462392),\n ('wkg:3620806194', 'wkgs:addrPlace', 'wkg:3707761493', 2.3722370991112514),\n ('wkg:3620806197', 'wkgs:addrPlace', 'wkg:1634123525', 2.034233540104791),\n ('wkg:3620806200', 'wkgs:addrPlace', 'wkg:3707761493', 2.3722370991112514),\n ('wkg:3620806201', 'wkgs:addrPlace', 'wkg:1634123525', 2.034233540104791),\n ('wkg:3620806220', 'wkgs:addrPlace', 'wkg:1313773886', 2.344378595462392),\n ('wkg:3620806247', 'wkgs:addrPlace', 'wkg:3707761493', 2.3722370991112514),\n ('wkg:3620806254', 'wkgs:addrPlace', 'wkg:3707761493', 2.3722370991112514),\n ('wkg:3620806256', 'wkgs:addrPlace', 'wkg:1313773886', 2.3654120149153224),\n ('wkg:3620806288', 'wkgs:addrPlace', 'wkg:1313773886', 2.3654120149153224),\n ('wkg:3620806297', 'wkgs:addrPlace', 'wkg:1634123525', 2.034233540104791),\n ('wkg:3620806342', 'wkgs:addrPlace', 'wkg:1313773886', 2.344378595462392),\n ('wkg:3620806397', 'wkgs:addrPlace', 'wkg:1634123525', 2.034233540104791),\n ('wkg:3620806403', 'wkgs:addrPlace', 'wkg:1313773886', 2.344378595462392),\n ('wkg:3620806475', 'wkgs:addrPlace', 'wkg:1313773886', 2.3654120149153224),\n ('wkg:3620806522', 'wkgs:addrPlace', 'wkg:3707761493', 2.3722370991112514),\n ('wkg:3620806536', 'wkgs:addrPlace', 'wkg:1313773886', 2.344378595462392),\n ('wkg:3620806542', 'wkgs:addrPlace', 'wkg:1634123525', 2.034233540104791),\n ('wkg:3620806570', 'wkgs:addrPlace', 'wkg:3707761493', 2.3722370991112514),\n ('wkg:3620806574', 'wkgs:addrPlace', 'wkg:1313773886', 2.344378595462392),\n ('wkg:3620806699', 'wkgs:addrPlace', 'wkg:3707761493', 2.3722370991112514),\n ('wkg:3620806700', 'wkgs:addrPlace', 'wkg:1634123525', 2.034233540104791),\n ('wkg:3620806712', 'wkgs:addrPlace', 'wkg:1313773886', 2.344378595462392),\n ('wkg:3620806720', 'wkgs:addrPlace', 'wkg:1634123525', 2.034233540104791),\n ('wkg:3620806960', 'wkgs:addrPlace', 'wkg:1634123525', 2.034233540104791),\n ('wkg:3620806962', 'wkgs:addrPlace', 'wkg:1313773886', 2.3654120149153224),\n ('wkg:3620807523', 'wkgs:addrPlace', 'wkg:1313773886', 2.3654120149153224),\n ('wkg:3620807544', 'wkgs:addrPlace', 'wkg:1634123525', 2.034233540104791),\n ('wkg:3620808293', 'wkgs:addrPlace', 'wkg:1313773886', 2.344378595462392),\n ('wkg:3620808600', 'wkgs:addrPlace', 'wkg:1634123525', 2.034233540104791),\n ('wkg:3620808910', 'wkgs:addrPlace', 'wkg:3707761493', 2.3722370991112514),\n ('wkg:3620808913', 'wkgs:addrPlace', 'wkg:1313773886', 2.3654120149153224),\n ('wkg:3620808935', 'wkgs:addrPlace', 'wkg:3707761493', 2.3722370991112514),\n ('wkg:3620808951', 'wkgs:addrPlace', 'wkg:3707761493', 2.3722370991112514),\n ('wkg:3620808971', 'wkgs:addrPlace', 'wkg:1313773886', 2.3654120149153224),\n ('wkg:3620809016', 'wkgs:addrPlace', 'wkg:1313773886', 2.363378793587611),\n ('wkg:3620809027', 'wkgs:addrPlace', 'wkg:1313773886', 2.363378793587611),\n ('wkg:3620809037', 'wkgs:addrPlace', 'wkg:1313773886', 2.3654120149153224),\n ('wkg:3620809058', 'wkgs:addrPlace', 'wkg:1634123525', 2.034233540104791),\n ('wkg:3620809065', 'wkgs:addrPlace', 'wkg:1313773886', 2.3654120149153224),\n ('wkg:3620809089', 'wkgs:addrPlace', 'wkg:1634123525', 2.034233540104791),\n ('wkg:3620809152', 'wkgs:addrPlace', 'wkg:1634123525', 2.034233540104791),\n ('wkg:3620809155', 'wkgs:addrPlace', 'wkg:1313773886', 2.3654120149153224),\n ('wkg:3620810133', 'wkgs:addrPlace', 'wkg:1634123525', 2.034233540104791),\n ('wkg:3620810166', 'wkgs:addrPlace', 'wkg:1634123525', 2.034233540104791),\n ('wkg:3620810171', 'wkgs:addrPlace', 'wkg:3707761493', 2.3722370991112514),\n ('wkg:3620810183', 'wkgs:addrPlace', 'wkg:3707761493', 2.3722370991112514),\n ('wkg:3620810303', 'wkgs:addrPlace', 'wkg:1634123525', 2.034233540104791),\n ('wkg:3620810322', 'wkgs:addrPlace', 'wkg:1313773886', 2.3654120149153224),\n ('wkg:3620810343', 'wkgs:addrPlace', 'wkg:1634123525', 2.034233540104791),\n ('wkg:3620811146', 'wkgs:addrPlace', 'wkg:1634123525', 2.034233540104791),\n ('wkg:3620811173', 'wkgs:addrPlace', 'wkg:1634123525', 2.034233540104791),\n ('wkg:3620811182', 'wkgs:addrPlace', 'wkg:3707761493', 2.3722370991112514),\n ('wkg:3620811373', 'wkgs:addrPlace', 'wkg:3707761493', 2.3722370991112514),\n ('wkg:3620811711', 'wkgs:addrPlace', 'wkg:1634123525', 2.034233540104791),\n ('wkg:3620811749', 'wkgs:addrPlace', 'wkg:1634123525', 2.034233540104791),\n ('wkg:3620811757', 'wkgs:addrPlace', 'wkg:1634123525', 2.034233540104791),\n ('wkg:3620812017', 'wkgs:addrPlace', 'wkg:1313773886', 2.3654120149153224),\n ('wkg:3620812407', 'wkgs:addrPlace', 'wkg:3707761493', 2.3722370991112514),\n ('wkg:3620812433', 'wkgs:addrPlace', 'wkg:1634123525', 2.034233540104791),\n ('wkg:3620812454', 'wkgs:addrPlace', 'wkg:3707761493', 2.3722370991112514),\n ('wkg:3620812471', 'wkgs:addrPlace', 'wkg:1634123525', 2.034233540104791),\n ('wkg:3620818699', 'wkgs:addrPlace', 'wkg:1634123525', 2.034233540104791),\n ('wkg:3620819525', 'wkgs:addrPlace', 'wkg:1634123525', 2.034233540104791),\n ('wkg:3620819539', 'wkgs:addrPlace', 'wkg:1634123525', 2.034233540104791),\n ('wkg:3620819607', 'wkgs:addrPlace', 'wkg:1634123525', 2.034233540104791),\n ('wkg:3620819609', 'wkgs:addrPlace', 'wkg:1634123525', 2.034233540104791),\n ('wkg:3620819816', 'wkgs:addrPlace', 'wkg:1634123525', 2.034233540104791),\n ('wkg:3620827093', 'wkgs:addrPlace', 'wkg:3707761493', 2.3722370991112514),\n ('wkg:3620827102', 'wkgs:addrPlace', 'wkg:1313773886', 2.344378595462392),\n ('wkg:3620827108', 'wkgs:addrPlace', 'wkg:1313773886', 2.344378595462392),\n ('wkg:3620827110', 'wkgs:addrPlace', 'wkg:1634123525', 2.034233540104791),\n ('wkg:3620833294', 'wkgs:addrPlace', 'wkg:1634123525', 2.034233540104791),\n ('wkg:3620833297', 'wkgs:addrPlace', 'wkg:1634123525', 2.034233540104791),\n ('wkg:3633910048', 'wkgs:addrPlace', 'wkg:1313773886', 2.3598524639771155),\n ('wkg:3633917971', 'wkgs:addrPlace', 'wkg:1313773886', 2.3732378259135625),\n ('wkg:3633925084', 'wkgs:addrPlace', 'wkg:1313773886', 2.3598524639771155),\n ('wkg:3633931194', 'wkgs:addrPlace', 'wkg:1313773886', 2.3598524639771155),\n ('wkg:3634442037', 'wkgs:addrPlace', 'wkg:2961073035', 2.2022456608710153),\n ('wkg:3635901789', 'wkgs:addrPlace', 'wkg:4072233213', 2.2798393041487914),\n ('wkg:3635902037', 'wkgs:addrPlace', 'wkg:3642794894', 2.0193287753247002),\n ('wkg:3635907781', 'wkgs:addrPlace', 'wkg:8778704329', 1.747056759022207),\n ('wkg:3635907782', 'wkgs:addrPlace', 'wkg:4072233213', 2.2125564386500525),\n ('wkg:3635907783', 'wkgs:addrPlace', 'wkg:4072233213', 2.2125564386500525),\n ('wkg:3635907784', 'wkgs:addrPlace', 'wkg:4072233213', 2.2125564386500525),\n ('wkg:3635907791', 'wkgs:addrPlace', 'wkg:8778704329', 1.747056759022207),\n ('wkg:3635907792', 'wkgs:addrPlace', 'wkg:4072233213', 2.2125564386500525),\n ('wkg:3635910284', 'wkgs:addrPlace', 'wkg:1313773886', 2.359031614294474),\n ('wkg:3635910285', 'wkgs:addrPlace', 'wkg:5239686636', 1.917589490056953),\n ('wkg:3635915370', 'wkgs:addrPlace', 'wkg:1313773886', 2.3571652065518633),\n ('wkg:3635915372', 'wkgs:addrPlace', 'wkg:1313773886', 2.277946194080286),\n ('wkg:3635915375', 'wkgs:addrPlace', 'wkg:3642794894', 2.0193287753247002),\n ('wkg:3635915377', 'wkgs:addrPlace', 'wkg:1313773886', 2.359031614294474),\n ('wkg:3635915378', 'wkgs:addrPlace', 'wkg:4072233213', 2.2798393041487914),\n ('wkg:3635917618', 'wkgs:addrPlace', 'wkg:1313773886', 2.362899333091236),\n ('wkg:3635917619', 'wkgs:addrPlace', 'wkg:1313773886', 2.362899333091236),\n ('wkg:3635917620', 'wkgs:addrPlace', 'wkg:1313773886', 2.362899333091236),\n ('wkg:3635917651', 'wkgs:addrPlace', 'wkg:1313773886', 2.277946194080286),\n ('wkg:3635917659', 'wkgs:addrPlace', 'wkg:1313773886', 2.359031614294474),\n ('wkg:3635917660', 'wkgs:addrPlace', 'wkg:5239686636', 1.917589490056953),\n ('wkg:3635918490', 'wkgs:addrPlace', 'wkg:1313773886', 2.362899333091236),\n ('wkg:3635918491', 'wkgs:addrPlace', 'wkg:1313773886', 2.362899333091236),\n ('wkg:3635919039', 'wkgs:addrPlace', 'wkg:1313773886', 2.277946194080286),\n ('wkg:3635919043', 'wkgs:addrPlace', 'wkg:1313773886', 2.359031614294474),\n ('wkg:3635919044', 'wkgs:addrPlace', 'wkg:1313773886', 2.359031614294474),\n ('wkg:3635919045', 'wkgs:addrPlace', 'wkg:4072233213', 2.2798393041487914),\n ('wkg:3635919067', 'wkgs:addrPlace', 'wkg:1313773886', 2.359031614294474),\n ('wkg:3635919068', 'wkgs:addrPlace', 'wkg:4072233213', 2.2798393041487914),\n ('wkg:3635919081', 'wkgs:addrPlace', 'wkg:4072233213', 2.2798393041487914),\n ('wkg:3635919090', 'wkgs:addrPlace', 'wkg:4072233213', 2.2798393041487914),\n ('wkg:3635919135', 'wkgs:addrPlace', 'wkg:1313773886', 2.3571652065518633),\n ('wkg:3635919137', 'wkgs:addrPlace', 'wkg:1313773886', 2.277946194080286),\n ('wkg:3635919141', 'wkgs:addrPlace', 'wkg:3642794894', 2.0193287753247002),\n ('wkg:3635919143', 'wkgs:addrPlace', 'wkg:1313773886', 2.359031614294474),\n ('wkg:3635919144', 'wkgs:addrPlace', 'wkg:4072233213', 2.2798393041487914),\n ('wkg:3635919178', 'wkgs:addrPlace', 'wkg:1313773886', 2.359031614294474),\n ('wkg:3635919179', 'wkgs:addrPlace', 'wkg:4072233213', 2.2798393041487914),\n ('wkg:3635919186', 'wkgs:addrPlace', 'wkg:4072233213', 2.2798393041487914),\n ('wkg:3635919197', 'wkgs:addrPlace', 'wkg:4072233213', 2.2798393041487914),\n ('wkg:3635919316', 'wkgs:addrPlace', 'wkg:4072233213', 2.2798393041487914),\n ('wkg:3635919340', 'wkgs:addrPlace', 'wkg:1313773886', 2.3664839107392437),\n ('wkg:3635919341', 'wkgs:addrPlace', 'wkg:1313773886', 2.3664839107392437),\n ('wkg:3635919342', 'wkgs:addrPlace', 'wkg:3642794894', 2.0193287753247002),\n ('wkg:3635919351', 'wkgs:addrPlace', 'wkg:1313773886', 2.3664839107392437),\n ('wkg:3635919529', 'wkgs:addrPlace', 'wkg:1313773886', 2.3571652065518633),\n ('wkg:3635919532', 'wkgs:addrPlace', 'wkg:1313773886', 2.277946194080286),\n ('wkg:3635919533', 'wkgs:addrPlace', 'wkg:8778704329', 1.747056759022207),\n ('wkg:3635919534', 'wkgs:addrPlace', 'wkg:3642794894', 2.0193287753247002),\n ('wkg:3635919536', 'wkgs:addrPlace', 'wkg:1313773886', 2.359031614294474),\n ('wkg:3635919598', 'wkgs:addrPlace', 'wkg:3642794894', 2.0193287753247002),\n ('wkg:3635919756', 'wkgs:addrPlace', 'wkg:1313773886', 2.351990817064064),\n ('wkg:3635919757', 'wkgs:addrPlace', 'wkg:5239686636', 1.917589490056953),\n ('wkg:3635919763', 'wkgs:addrPlace', 'wkg:5239686636', 1.917589490056953),\n ('wkg:3635919765', 'wkgs:addrPlace', 'wkg:5239686636', 1.917589490056953),\n ('wkg:3635919767', 'wkgs:addrPlace', 'wkg:5239686636', 1.917589490056953),\n ('wkg:3635919776', 'wkgs:addrPlace', 'wkg:3020106931', 1.9243235624754966),\n ('wkg:3635919777', 'wkgs:addrPlace', 'wkg:1313773886', 2.359031614294474),\n ('wkg:3635919790', 'wkgs:addrPlace', 'wkg:4072233213', 2.2125564386500525),\n ('wkg:3635919791', 'wkgs:addrPlace', 'wkg:1313773886', 2.359031614294474),\n ('wkg:3635919906', 'wkgs:addrPlace', 'wkg:1313773886', 2.3571652065518633),\n ('wkg:3635919908', 'wkgs:addrPlace', 'wkg:1313773886', 2.277946194080286),\n ('wkg:3635919910', 'wkgs:addrPlace', 'wkg:3642794894', 2.0193287753247002),\n ('wkg:3635919912', 'wkgs:addrPlace', 'wkg:1313773886', 2.359031614294474),\n ('wkg:3635919913', 'wkgs:addrPlace', 'wkg:4072233213', 2.2798393041487914),\n ('wkg:3635919929', 'wkgs:addrPlace', 'wkg:1313773886', 2.3571652065518633),\n ('wkg:3635919930', 'wkgs:addrPlace', 'wkg:3642794894', 2.0193287753247002),\n ('wkg:3635920088', 'wkgs:addrPlace', 'wkg:1313773886', 2.3664839107392437),\n ('wkg:3635920090', 'wkgs:addrPlace', 'wkg:1313773886', 2.277946194080286),\n ('wkg:3635920091', 'wkgs:addrPlace', 'wkg:8778704329', 1.747056759022207),\n ('wkg:3635920092', 'wkgs:addrPlace', 'wkg:3642794894', 2.0193287753247002),\n ('wkg:3635920236', 'wkgs:addrPlace', 'wkg:1313773886', 2.3664839107392437),\n ('wkg:3635920238', 'wkgs:addrPlace', 'wkg:1313773886', 2.277946194080286),\n ...]"
     },
     "execution_count": 32,
     "metadata": {},
     "output_type": "execute_result"
    }
   ],
   "source": [
    "pairs"
   ],
   "metadata": {
    "collapsed": false,
    "ExecuteTime": {
     "end_time": "2023-11-08T17:45:15.194430500Z",
     "start_time": "2023-11-08T17:45:15.127212700Z"
    }
   },
   "id": "c620b94fff5ab6d2"
  },
  {
   "cell_type": "code",
   "execution_count": 48,
   "outputs": [],
   "source": [
    "# i suggest cutoff at 2.0 score. Worse results seem really bad\n",
    "with open('uslp-triplets.csv', 'w', newline='') as f:\n",
    "    writer = csv.writer(f)\n",
    "    for s, p, o, val in pairs:\n",
    "        writer.writerow([s, p, o, val])"
   ],
   "metadata": {
    "collapsed": false,
    "ExecuteTime": {
     "end_time": "2023-11-09T00:15:57.631064100Z",
     "start_time": "2023-11-09T00:15:57.590658700Z"
    }
   },
   "id": "537bf058adc38a8b"
  },
  {
   "cell_type": "code",
   "execution_count": 287,
   "outputs": [],
   "source": [
    "for precision, distances in distance_matrices.items():\n",
    "    distance_frame = pd.DataFrame.from_dict(distances, orient='index')\n",
    "    max_val = distance_frame.values.max()\n",
    "    distance_frame = pd.DataFrame(1 - (distance_frame.values / max_val), columns=distance_frame.columns, index=distance_frame.index)"
   ],
   "metadata": {
    "collapsed": false,
    "ExecuteTime": {
     "end_time": "2023-10-19T15:10:45.478159Z",
     "start_time": "2023-10-19T15:10:45.459673300Z"
    }
   },
   "id": "e6e7d4fd6bca1552"
  },
  {
   "cell_type": "code",
   "execution_count": 273,
   "outputs": [
    {
     "data": {
      "text/plain": "{'u': {'u': 0.0, 's': 5003.778610508981}}"
     },
     "execution_count": 273,
     "metadata": {},
     "output_type": "execute_result"
    }
   ],
   "source": [],
   "metadata": {
    "collapsed": false,
    "ExecuteTime": {
     "end_time": "2023-10-19T14:58:44.650484600Z",
     "start_time": "2023-10-19T14:58:44.609498600Z"
    }
   },
   "id": "8ada3df4b2f39bed"
  },
  {
   "cell_type": "code",
   "execution_count": 49,
   "outputs": [],
   "source": [
    "predictions = pd.DataFrame(pairs, columns=['s', 'p', 'o', 'score'])"
   ],
   "metadata": {
    "collapsed": false,
    "ExecuteTime": {
     "end_time": "2023-11-09T00:16:01.303256200Z",
     "start_time": "2023-11-09T00:16:01.273555500Z"
    }
   },
   "id": "916605f43e5e5435"
  },
  {
   "cell_type": "code",
   "execution_count": 37,
   "outputs": [
    {
     "data": {
      "text/plain": "                   s                 p              o     score\n63    wkg:3723320619  wkgs:isInCountry  wkg:208592566  2.912971\n80     wkg:414949756  wkgs:isInCountry  wkg:208592566  2.912971\n93    wkg:4762715686  wkgs:isInCountry  wkg:208592566  2.912971\n92    wkg:4759852818  wkgs:isInCountry  wkg:208592566  2.912971\n91    wkg:4759852817  wkgs:isInCountry  wkg:208592566  2.912971\n...              ...               ...            ...       ...\n6993  wkg:8357456906      wkgs:country  wkg:208592566  1.632498\n7029  wkg:8866929385      wkgs:country  wkg:208592566  1.611731\n7028  wkg:8866562785      wkgs:country  wkg:208592566  1.594955\n7038  wkg:9554528548      wkgs:country  wkg:208592566  1.593100\n7039  wkg:9554594660      wkgs:country  wkg:208592566  1.593100\n\n[8231 rows x 4 columns]",
      "text/html": "<div>\n<style scoped>\n    .dataframe tbody tr th:only-of-type {\n        vertical-align: middle;\n    }\n\n    .dataframe tbody tr th {\n        vertical-align: top;\n    }\n\n    .dataframe thead th {\n        text-align: right;\n    }\n</style>\n<table border=\"1\" class=\"dataframe\">\n  <thead>\n    <tr style=\"text-align: right;\">\n      <th></th>\n      <th>s</th>\n      <th>p</th>\n      <th>o</th>\n      <th>score</th>\n    </tr>\n  </thead>\n  <tbody>\n    <tr>\n      <th>63</th>\n      <td>wkg:3723320619</td>\n      <td>wkgs:isInCountry</td>\n      <td>wkg:208592566</td>\n      <td>2.912971</td>\n    </tr>\n    <tr>\n      <th>80</th>\n      <td>wkg:414949756</td>\n      <td>wkgs:isInCountry</td>\n      <td>wkg:208592566</td>\n      <td>2.912971</td>\n    </tr>\n    <tr>\n      <th>93</th>\n      <td>wkg:4762715686</td>\n      <td>wkgs:isInCountry</td>\n      <td>wkg:208592566</td>\n      <td>2.912971</td>\n    </tr>\n    <tr>\n      <th>92</th>\n      <td>wkg:4759852818</td>\n      <td>wkgs:isInCountry</td>\n      <td>wkg:208592566</td>\n      <td>2.912971</td>\n    </tr>\n    <tr>\n      <th>91</th>\n      <td>wkg:4759852817</td>\n      <td>wkgs:isInCountry</td>\n      <td>wkg:208592566</td>\n      <td>2.912971</td>\n    </tr>\n    <tr>\n      <th>...</th>\n      <td>...</td>\n      <td>...</td>\n      <td>...</td>\n      <td>...</td>\n    </tr>\n    <tr>\n      <th>6993</th>\n      <td>wkg:8357456906</td>\n      <td>wkgs:country</td>\n      <td>wkg:208592566</td>\n      <td>1.632498</td>\n    </tr>\n    <tr>\n      <th>7029</th>\n      <td>wkg:8866929385</td>\n      <td>wkgs:country</td>\n      <td>wkg:208592566</td>\n      <td>1.611731</td>\n    </tr>\n    <tr>\n      <th>7028</th>\n      <td>wkg:8866562785</td>\n      <td>wkgs:country</td>\n      <td>wkg:208592566</td>\n      <td>1.594955</td>\n    </tr>\n    <tr>\n      <th>7038</th>\n      <td>wkg:9554528548</td>\n      <td>wkgs:country</td>\n      <td>wkg:208592566</td>\n      <td>1.593100</td>\n    </tr>\n    <tr>\n      <th>7039</th>\n      <td>wkg:9554594660</td>\n      <td>wkgs:country</td>\n      <td>wkg:208592566</td>\n      <td>1.593100</td>\n    </tr>\n  </tbody>\n</table>\n<p>8231 rows × 4 columns</p>\n</div>"
     },
     "execution_count": 37,
     "metadata": {},
     "output_type": "execute_result"
    }
   ],
   "source": [
    "predictions.sort_values(by='score', ascending=False)"
   ],
   "metadata": {
    "collapsed": false,
    "ExecuteTime": {
     "end_time": "2023-11-08T17:46:49.428851800Z",
     "start_time": "2023-11-08T17:46:49.405174900Z"
    }
   },
   "id": "58eef8943ea50840"
  },
  {
   "cell_type": "code",
   "execution_count": 38,
   "outputs": [],
   "source": [
    "candid_data = candidates[['uri', 'label', 'type']]\n",
    "subject_info = subjects[['uri', 'literal']]"
   ],
   "metadata": {
    "collapsed": false,
    "ExecuteTime": {
     "end_time": "2023-11-08T17:47:06.506186900Z",
     "start_time": "2023-11-08T17:47:06.471183400Z"
    }
   },
   "id": "4108bf53278ddffd"
  },
  {
   "cell_type": "code",
   "execution_count": 50,
   "outputs": [],
   "source": [
    "#predictions = pd.read_csv('uslp-triplets.csv', header=None, names=['s', 'p', 'o', 'score'])\n",
    "predictions = predictions.merge(candid_data, left_on='s', right_on='uri')\n",
    "predictions = predictions.merge(candid_data, left_on='o', right_on='uri')\n",
    "predictions = predictions.merge(subject_info, left_on='s', right_on='uri')\n",
    "predictions = predictions.drop(columns=['uri_x', 'uri_y'])\n",
    "predictions = predictions[['s', 'label_x', 'type_x', 'p', 'type_y', 'literal', 'o', 'label_y', 'score']]\n"
   ],
   "metadata": {
    "collapsed": false,
    "ExecuteTime": {
     "end_time": "2023-11-09T00:16:10.007521500Z",
     "start_time": "2023-11-09T00:16:09.973875100Z"
    }
   },
   "id": "d31e0031d0710a85"
  },
  {
   "cell_type": "code",
   "execution_count": 51,
   "outputs": [
    {
     "data": {
      "text/plain": "                   s                                         label_x  \\\n150   wkg:9554528548  Embassy of Ukraine in the Republic of Slovenia   \n151   wkg:9554594660                      Konzulat Ukrajine v Kranju   \n147   wkg:8866562785                         Veleposlaništvo Gruzije   \n148   wkg:8866929385                          Veleposlaništvo Kosova   \n517   wkg:1339589275                              Mercator Beli Križ   \n...              ...                                             ...   \n984   wkg:3889214477                              Kmetija Fornazarič   \n985   wkg:6387582479                                Frlanova Kmetija   \n986   wkg:8014566124                                     Mehanika RG   \n996   wkg:2476370197                                   Picerija Etna   \n1094  wkg:5028334021                      Izletniska kmetija Kraljic   \n\n               type_x               p            type_y  literal  \\\n150        Diplomatic    wkgs:country           Country       UA   \n151        Diplomatic    wkgs:country           Country       UA   \n147        Diplomatic    wkgs:country           Country       GE   \n148        Diplomatic    wkgs:country           Country       XK   \n517   ShopSupermarket  wkgs:addrState            Studio       SI   \n...               ...             ...               ...      ...   \n984           Alcohol  wkgs:addrPlace  MotorwayJunction  Vogrsko   \n985             <UNK>  wkgs:addrPlace  MotorwayJunction  Vogrsko   \n986             <UNK>  wkgs:addrPlace  MotorwayJunction  Vogrsko   \n996        Restaurant  wkgs:addrPlace  MotorwayJunction   Divača   \n1094       GuestHouse  wkgs:addrPlace      ManMadeTower    Tabor   \n\n                   o    label_y     score  \n150    wkg:208592566  Slovenija  1.593100  \n151    wkg:208592566  Slovenija  1.593100  \n147    wkg:208592566  Slovenija  1.594955  \n148    wkg:208592566  Slovenija  1.611731  \n517   wkg:5249405282   Radio SI  1.670489  \n...              ...        ...       ...  \n984   wkg:1362760677    Vogrsko  2.391819  \n985   wkg:1362760677    Vogrsko  2.391819  \n986   wkg:1362760677    Vogrsko  2.391819  \n996    wkg:288288440     Divača  2.391819  \n1094  wkg:2184661636      Tabor  2.411398  \n\n[1188 rows x 9 columns]",
      "text/html": "<div>\n<style scoped>\n    .dataframe tbody tr th:only-of-type {\n        vertical-align: middle;\n    }\n\n    .dataframe tbody tr th {\n        vertical-align: top;\n    }\n\n    .dataframe thead th {\n        text-align: right;\n    }\n</style>\n<table border=\"1\" class=\"dataframe\">\n  <thead>\n    <tr style=\"text-align: right;\">\n      <th></th>\n      <th>s</th>\n      <th>label_x</th>\n      <th>type_x</th>\n      <th>p</th>\n      <th>type_y</th>\n      <th>literal</th>\n      <th>o</th>\n      <th>label_y</th>\n      <th>score</th>\n    </tr>\n  </thead>\n  <tbody>\n    <tr>\n      <th>150</th>\n      <td>wkg:9554528548</td>\n      <td>Embassy of Ukraine in the Republic of Slovenia</td>\n      <td>Diplomatic</td>\n      <td>wkgs:country</td>\n      <td>Country</td>\n      <td>UA</td>\n      <td>wkg:208592566</td>\n      <td>Slovenija</td>\n      <td>1.593100</td>\n    </tr>\n    <tr>\n      <th>151</th>\n      <td>wkg:9554594660</td>\n      <td>Konzulat Ukrajine v Kranju</td>\n      <td>Diplomatic</td>\n      <td>wkgs:country</td>\n      <td>Country</td>\n      <td>UA</td>\n      <td>wkg:208592566</td>\n      <td>Slovenija</td>\n      <td>1.593100</td>\n    </tr>\n    <tr>\n      <th>147</th>\n      <td>wkg:8866562785</td>\n      <td>Veleposlaništvo Gruzije</td>\n      <td>Diplomatic</td>\n      <td>wkgs:country</td>\n      <td>Country</td>\n      <td>GE</td>\n      <td>wkg:208592566</td>\n      <td>Slovenija</td>\n      <td>1.594955</td>\n    </tr>\n    <tr>\n      <th>148</th>\n      <td>wkg:8866929385</td>\n      <td>Veleposlaništvo Kosova</td>\n      <td>Diplomatic</td>\n      <td>wkgs:country</td>\n      <td>Country</td>\n      <td>XK</td>\n      <td>wkg:208592566</td>\n      <td>Slovenija</td>\n      <td>1.611731</td>\n    </tr>\n    <tr>\n      <th>517</th>\n      <td>wkg:1339589275</td>\n      <td>Mercator Beli Križ</td>\n      <td>ShopSupermarket</td>\n      <td>wkgs:addrState</td>\n      <td>Studio</td>\n      <td>SI</td>\n      <td>wkg:5249405282</td>\n      <td>Radio SI</td>\n      <td>1.670489</td>\n    </tr>\n    <tr>\n      <th>...</th>\n      <td>...</td>\n      <td>...</td>\n      <td>...</td>\n      <td>...</td>\n      <td>...</td>\n      <td>...</td>\n      <td>...</td>\n      <td>...</td>\n      <td>...</td>\n    </tr>\n    <tr>\n      <th>984</th>\n      <td>wkg:3889214477</td>\n      <td>Kmetija Fornazarič</td>\n      <td>Alcohol</td>\n      <td>wkgs:addrPlace</td>\n      <td>MotorwayJunction</td>\n      <td>Vogrsko</td>\n      <td>wkg:1362760677</td>\n      <td>Vogrsko</td>\n      <td>2.391819</td>\n    </tr>\n    <tr>\n      <th>985</th>\n      <td>wkg:6387582479</td>\n      <td>Frlanova Kmetija</td>\n      <td>&lt;UNK&gt;</td>\n      <td>wkgs:addrPlace</td>\n      <td>MotorwayJunction</td>\n      <td>Vogrsko</td>\n      <td>wkg:1362760677</td>\n      <td>Vogrsko</td>\n      <td>2.391819</td>\n    </tr>\n    <tr>\n      <th>986</th>\n      <td>wkg:8014566124</td>\n      <td>Mehanika RG</td>\n      <td>&lt;UNK&gt;</td>\n      <td>wkgs:addrPlace</td>\n      <td>MotorwayJunction</td>\n      <td>Vogrsko</td>\n      <td>wkg:1362760677</td>\n      <td>Vogrsko</td>\n      <td>2.391819</td>\n    </tr>\n    <tr>\n      <th>996</th>\n      <td>wkg:2476370197</td>\n      <td>Picerija Etna</td>\n      <td>Restaurant</td>\n      <td>wkgs:addrPlace</td>\n      <td>MotorwayJunction</td>\n      <td>Divača</td>\n      <td>wkg:288288440</td>\n      <td>Divača</td>\n      <td>2.391819</td>\n    </tr>\n    <tr>\n      <th>1094</th>\n      <td>wkg:5028334021</td>\n      <td>Izletniska kmetija Kraljic</td>\n      <td>GuestHouse</td>\n      <td>wkgs:addrPlace</td>\n      <td>ManMadeTower</td>\n      <td>Tabor</td>\n      <td>wkg:2184661636</td>\n      <td>Tabor</td>\n      <td>2.411398</td>\n    </tr>\n  </tbody>\n</table>\n<p>1188 rows × 9 columns</p>\n</div>"
     },
     "execution_count": 51,
     "metadata": {},
     "output_type": "execute_result"
    }
   ],
   "source": [
    "predictions.to_csv('predictions_annotated_simple.csv')\n",
    "predictions.sort_values(by='score', ascending=True)"
   ],
   "metadata": {
    "collapsed": false,
    "ExecuteTime": {
     "end_time": "2023-11-09T00:16:25.415310100Z",
     "start_time": "2023-11-09T00:16:25.385915300Z"
    }
   },
   "id": "8e166a5c67159257"
  },
  {
   "cell_type": "code",
   "execution_count": 44,
   "outputs": [
    {
     "data": {
      "text/plain": "1018"
     },
     "execution_count": 44,
     "metadata": {},
     "output_type": "execute_result"
    }
   ],
   "source": [
    "len(predictions[predictions['score'] >= 2])"
   ],
   "metadata": {
    "collapsed": false,
    "ExecuteTime": {
     "end_time": "2023-11-08T17:53:18.353527900Z",
     "start_time": "2023-11-08T17:53:18.300685700Z"
    }
   },
   "id": "784a1f7710e7468c"
  },
  {
   "cell_type": "code",
   "execution_count": 45,
   "outputs": [
    {
     "data": {
      "text/plain": "1188"
     },
     "execution_count": 45,
     "metadata": {},
     "output_type": "execute_result"
    }
   ],
   "source": [
    "len(predictions)"
   ],
   "metadata": {
    "collapsed": false,
    "ExecuteTime": {
     "end_time": "2023-11-08T17:53:27.115971Z",
     "start_time": "2023-11-08T17:53:27.080119700Z"
    }
   },
   "id": "18449d20f593dc98"
  },
  {
   "cell_type": "code",
   "execution_count": null,
   "outputs": [],
   "source": [],
   "metadata": {
    "collapsed": false
   },
   "id": "e5b56a356e1823fd"
  }
 ],
 "metadata": {
  "kernelspec": {
   "display_name": "Python 3",
   "language": "python",
   "name": "python3"
  },
  "language_info": {
   "codemirror_mode": {
    "name": "ipython",
    "version": 2
   },
   "file_extension": ".py",
   "mimetype": "text/x-python",
   "name": "python",
   "nbconvert_exporter": "python",
   "pygments_lexer": "ipython2",
   "version": "2.7.6"
  }
 },
 "nbformat": 4,
 "nbformat_minor": 5
}
