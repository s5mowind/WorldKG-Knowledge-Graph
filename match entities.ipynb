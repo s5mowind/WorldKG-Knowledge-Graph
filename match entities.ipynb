{
 "cells": [
  {
   "cell_type": "code",
   "execution_count": 191,
   "id": "initial_id",
   "metadata": {
    "collapsed": true,
    "ExecuteTime": {
     "end_time": "2023-10-19T12:41:32.548176300Z",
     "start_time": "2023-10-19T12:41:32.517251Z"
    }
   },
   "outputs": [],
   "source": [
    "import json\n",
    "import pandas as pd\n",
    "from haversine import haversine\n",
    "from pygeohash import decode_exactly\n",
    "from tqdm import tqdm"
   ]
  },
  {
   "cell_type": "code",
   "execution_count": 168,
   "outputs": [],
   "source": [
    "from sklearn.metrics.pairwise import cosine_similarity"
   ],
   "metadata": {
    "collapsed": false,
    "ExecuteTime": {
     "end_time": "2023-10-19T12:31:08.208893800Z",
     "start_time": "2023-10-19T12:31:08.205393Z"
    }
   },
   "id": "92d0c2a035ea4323"
  },
  {
   "cell_type": "code",
   "execution_count": 161,
   "outputs": [],
   "source": [
    "def haversine_from_geohash(hash1:str, hash2:str) -> float:\n",
    "    \"\"\"\n",
    "    function to estimate haversine distance from geohash strings\n",
    "    :param hash1: first loaction encoded in geohash\n",
    "    :param hash2: second location encoded in geohash\n",
    "    :return: estimated distance between locations in km\n",
    "    \"\"\"\n",
    "    # only take first two parts of tuples, rest are error estimations\n",
    "    hd = haversine(decode_exactly(hash1)[:2], decode_exactly(hash2)[:2])\n",
    "    return hd"
   ],
   "metadata": {
    "collapsed": false,
    "ExecuteTime": {
     "start_time": "2023-10-19T12:30:44.080188100Z"
    }
   },
   "id": "8682f16077f8beb3"
  },
  {
   "cell_type": "code",
   "execution_count": 162,
   "outputs": [],
   "source": [
    "with open('geohash_precision.json', 'r') as f:\n",
    "    geohash_precision_map = json.load(f)"
   ],
   "metadata": {
    "collapsed": false,
    "ExecuteTime": {
     "start_time": "2023-10-19T12:30:44.083687400Z"
    }
   },
   "id": "467454fa814d0a44"
  },
  {
   "cell_type": "code",
   "execution_count": 211,
   "outputs": [],
   "source": [
    "candidates = pd.read_parquet('candidates_embedding.parquet.gzip')\n",
    "subjects = pd.read_parquet('subjects_embedding.parquet.gzip')"
   ],
   "metadata": {
    "collapsed": false,
    "ExecuteTime": {
     "end_time": "2023-10-19T13:08:05.860484500Z",
     "start_time": "2023-10-19T13:08:05.628284500Z"
    }
   },
   "id": "b01eaf143980a6f0"
  },
  {
   "cell_type": "code",
   "execution_count": 214,
   "outputs": [],
   "source": [
    "with open('predicate_map.json', 'r') as f:\n",
    "    predicate_map = json.load(f)\n",
    "with open('literal_map.json', 'r') as f:\n",
    "    literal_map = json.load(f)\n",
    "with open('type_map.json', 'r') as f:\n",
    "    type_map = json.load(f)"
   ],
   "metadata": {
    "collapsed": false,
    "ExecuteTime": {
     "end_time": "2023-10-19T13:08:09.899625Z",
     "start_time": "2023-10-19T13:08:09.668205700Z"
    }
   },
   "id": "e127dd8ec958c809"
  },
  {
   "cell_type": "code",
   "execution_count": 215,
   "outputs": [],
   "source": [
    "predicates = pd.DataFrame.from_dict(predicate_map, orient='index')\n",
    "literals = pd.DataFrame.from_dict(literal_map, orient='index')\n",
    "types = pd.DataFrame.from_dict(type_map, orient='index')"
   ],
   "metadata": {
    "collapsed": false,
    "ExecuteTime": {
     "end_time": "2023-10-19T13:08:09.900622400Z",
     "start_time": "2023-10-19T13:08:09.868985300Z"
    }
   },
   "id": "426562294ee672ea"
  },
  {
   "cell_type": "code",
   "execution_count": 216,
   "outputs": [],
   "source": [
    "cos_sim_literal = cosine_similarity(candidates.loc[:, [f'label_emb{i}' for i in range(300)]], literals.values)\n",
    "literal_cossim_df = pd.DataFrame(cos_sim_literal, index=candidates.index.to_list(), columns=literals.index)"
   ],
   "metadata": {
    "collapsed": false,
    "ExecuteTime": {
     "end_time": "2023-10-19T13:08:10.302675100Z",
     "start_time": "2023-10-19T13:08:09.897638500Z"
    }
   },
   "id": "9dcb6f5fbd87abe0"
  },
  {
   "cell_type": "code",
   "execution_count": 217,
   "outputs": [],
   "source": [
    "cos_sim_predicate = cosine_similarity(types.values, predicates.values)\n",
    "predicate_cossim_df = pd.DataFrame(cos_sim_predicate, index=types.index, columns=predicates.index)"
   ],
   "metadata": {
    "collapsed": false,
    "ExecuteTime": {
     "end_time": "2023-10-19T13:08:10.331894200Z",
     "start_time": "2023-10-19T13:08:10.303672700Z"
    }
   },
   "id": "53067dedd7c75d31"
  },
  {
   "cell_type": "code",
   "execution_count": 250,
   "outputs": [
    {
     "name": "stdout",
     "output_type": "stream",
     "text": [
      "distance matrix prec = 1: (2, 1)\n",
      "distance matrix prec = 3: (8, 6)\n",
      "distance matrix prec = 4: (64, 55)\n"
     ]
    }
   ],
   "source": [
    "for precision in set(geohash_precision_map.values()):\n",
    "    print(f\"distance matrix prec = {precision}: ({len(candidates.apply(lambda row: row['geohash'][:precision], axis=1).unique())}, {len(subjects.apply(lambda row: row['geohash'][:precision], axis=1).unique())})\")"
   ],
   "metadata": {
    "collapsed": false,
    "ExecuteTime": {
     "end_time": "2023-10-19T13:35:01.998664600Z",
     "start_time": "2023-10-19T13:34:59.224840900Z"
    }
   },
   "id": "b71f863c304730a7"
  },
  {
   "cell_type": "code",
   "execution_count": 221,
   "outputs": [
    {
     "name": "stderr",
     "output_type": "stream",
     "text": [
      "100%|██████████| 3/3 [00:48<00:00, 16.31s/it]\n"
     ]
    }
   ],
   "source": [
    "distance_matrices = {}\n",
    "for p in tqdm(set(geohash_precision_map.values())):\n",
    "    dist_mat = {hash1: {hash2: haversine_from_geohash(hash1, hash2) for hash2 in candidates.apply(lambda row: row['geohash'][:p], axis=1).unique()} for hash1 in subjects.apply(lambda row: row['geohash'][:p], axis=1).unique()}\n",
    "    distance_matrices.update({p: dist_mat})"
   ],
   "metadata": {
    "collapsed": false,
    "ExecuteTime": {
     "end_time": "2023-10-19T13:09:24.842897Z",
     "start_time": "2023-10-19T13:08:35.878314600Z"
    }
   },
   "id": "ab1de2068565b6b"
  },
  {
   "cell_type": "code",
   "execution_count": 268,
   "outputs": [
    {
     "name": "stderr",
     "output_type": "stream",
     "text": [
      "100%|██████████| 2000/2000 [06:34<00:00,  5.07it/s]"
     ]
    },
    {
     "name": "stdout",
     "output_type": "stream",
     "text": [
      "91.45% of matches saved by checking\n"
     ]
    },
    {
     "name": "stderr",
     "output_type": "stream",
     "text": [
      "\n"
     ]
    }
   ],
   "source": [
    "matched = {}\n",
    "pairs = []\n",
    "count = 0\n",
    "num_subjects = 2000\n",
    "for index, row in tqdm(subjects[:num_subjects].iterrows(), total=num_subjects):\n",
    "    precision = geohash_precision_map[row['predicate']]\n",
    "    gh = row['geohash'][:precision]\n",
    "    pred = row['predicate']\n",
    "    lit = row['literal']\n",
    "    if (gh, pred, lit) in matched:  # only consider new constellations\n",
    "        count += 1\n",
    "        pairs.append((row['uri'], row['predicate'], matched[(gh, pred, lit)]))\n",
    "    else:\n",
    "        dm_precision = distance_matrices[precision][gh]\n",
    "        cossim_matching_predicate= predicate_cossim_df.loc[:, pred]\n",
    "        cossim_matching_literal = literal_cossim_df.loc[:, lit]\n",
    "        distances = candidates.apply(lambda cand: dm_precision[cand['geohash'][:precision]], axis=1)\n",
    "        max_val = max(distances)\n",
    "        distances = 1 - (distances / max_val)\n",
    "        embed_sim = candidates.apply(lambda cand: cossim_matching_predicate.loc[cand['type']] + cossim_matching_literal.loc[cand.name], axis=1)\n",
    "        candidate_eval = distances + embed_sim\n",
    "        best_candidate = candidate_eval.idxmax()\n",
    "        best_candidate_uri = candidates.loc[best_candidate, 'uri']\n",
    "        pairs.append((row['uri'], row['predicate'], best_candidate_uri))\n",
    "        matched.update({(gh, pred, lit): best_candidate_uri})\n",
    "print(f'{count/num_subjects*100:.2f}% of matches saved by checking')\n",
    "# 2.7 s by doing embedding simultaneously\n",
    "# 2.5 s by removing repetitive calls\n",
    "# 2.5 s for adding matched into dictionary\n",
    "# 2.5 for checking about the same if 10000 entries\n",
    "# 2.4 s removed repetitive call for dist_mat\n",
    "# 2.3 s removing repeated calls on cossim matrices\n",
    "# with match saving 6:30 for 2000\n",
    "# interpolation for 8200 subjects a 3.6s: 8.2 h"
   ],
   "metadata": {
    "collapsed": false,
    "ExecuteTime": {
     "end_time": "2023-10-19T14:19:07.691491200Z",
     "start_time": "2023-10-19T14:12:33.393865500Z"
    }
   },
   "id": "4a0a68d8105baa3d"
  },
  {
   "cell_type": "code",
   "execution_count": null,
   "outputs": [],
   "source": [],
   "metadata": {
    "collapsed": false
   },
   "id": "537bf058adc38a8b"
  }
 ],
 "metadata": {
  "kernelspec": {
   "display_name": "Python 3",
   "language": "python",
   "name": "python3"
  },
  "language_info": {
   "codemirror_mode": {
    "name": "ipython",
    "version": 2
   },
   "file_extension": ".py",
   "mimetype": "text/x-python",
   "name": "python",
   "nbconvert_exporter": "python",
   "pygments_lexer": "ipython2",
   "version": "2.7.6"
  }
 },
 "nbformat": 4,
 "nbformat_minor": 5
}
