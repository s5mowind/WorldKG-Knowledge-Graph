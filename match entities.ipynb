{
 "cells": [
  {
   "cell_type": "code",
   "execution_count": 1,
   "id": "initial_id",
   "metadata": {
    "collapsed": true,
    "ExecuteTime": {
     "end_time": "2023-10-16T19:24:13.304264600Z",
     "start_time": "2023-10-16T19:24:11.638459200Z"
    }
   },
   "outputs": [],
   "source": [
    "import pandas as pd"
   ]
  },
  {
   "cell_type": "code",
   "execution_count": 2,
   "outputs": [],
   "source": [
    "candidates = pd.read_parquet('candidates.parquet.gzip')\n",
    "subjects = pd.read_parquet('subjects.parquet.gzip')"
   ],
   "metadata": {
    "collapsed": false,
    "ExecuteTime": {
     "end_time": "2023-10-16T19:24:13.649445100Z",
     "start_time": "2023-10-16T19:24:13.307260700Z"
    }
   },
   "id": "36619de2702eb1cf"
  },
  {
   "cell_type": "code",
   "execution_count": 3,
   "outputs": [
    {
     "data": {
      "text/plain": "         predicate               label                      location\n0  wkg:10000310952      Planina Grohat   Point(14.7443577 46.423256)\n1  wkg:10000464002           Bar Sokol    Point(14.5208932 46.03545)\n2  wkg:10000633532       Oton Župančič  Point(14.5049273 46.0542961)\n3  wkg:10001176746  Slovenska Bistrica  Point(15.5529495 46.3925384)\n4  wkg:10001265524         Bar Platana  Point(14.5048953 46.0500597)",
      "text/html": "<div>\n<style scoped>\n    .dataframe tbody tr th:only-of-type {\n        vertical-align: middle;\n    }\n\n    .dataframe tbody tr th {\n        vertical-align: top;\n    }\n\n    .dataframe thead th {\n        text-align: right;\n    }\n</style>\n<table border=\"1\" class=\"dataframe\">\n  <thead>\n    <tr style=\"text-align: right;\">\n      <th></th>\n      <th>predicate</th>\n      <th>label</th>\n      <th>location</th>\n    </tr>\n  </thead>\n  <tbody>\n    <tr>\n      <th>0</th>\n      <td>wkg:10000310952</td>\n      <td>Planina Grohat</td>\n      <td>Point(14.7443577 46.423256)</td>\n    </tr>\n    <tr>\n      <th>1</th>\n      <td>wkg:10000464002</td>\n      <td>Bar Sokol</td>\n      <td>Point(14.5208932 46.03545)</td>\n    </tr>\n    <tr>\n      <th>2</th>\n      <td>wkg:10000633532</td>\n      <td>Oton Župančič</td>\n      <td>Point(14.5049273 46.0542961)</td>\n    </tr>\n    <tr>\n      <th>3</th>\n      <td>wkg:10001176746</td>\n      <td>Slovenska Bistrica</td>\n      <td>Point(15.5529495 46.3925384)</td>\n    </tr>\n    <tr>\n      <th>4</th>\n      <td>wkg:10001265524</td>\n      <td>Bar Platana</td>\n      <td>Point(14.5048953 46.0500597)</td>\n    </tr>\n  </tbody>\n</table>\n</div>"
     },
     "execution_count": 3,
     "metadata": {},
     "output_type": "execute_result"
    }
   ],
   "source": [
    "candidates.head()"
   ],
   "metadata": {
    "collapsed": false,
    "ExecuteTime": {
     "end_time": "2023-10-16T19:24:13.670558500Z",
     "start_time": "2023-10-16T19:24:13.650442400Z"
    }
   },
   "id": "2af6781d54913173"
  },
  {
   "cell_type": "code",
   "execution_count": 5,
   "outputs": [
    {
     "name": "stdout",
     "output_type": "stream",
     "text": [
      "Collecting pygeohash\n",
      "  Downloading pygeohash-1.2.0.tar.gz (5.0 kB)\n",
      "  Preparing metadata (setup.py): started\n",
      "  Preparing metadata (setup.py): finished with status 'done'\n",
      "Building wheels for collected packages: pygeohash\n",
      "  Building wheel for pygeohash (setup.py): started\n",
      "  Building wheel for pygeohash (setup.py): finished with status 'done'\n",
      "  Created wheel for pygeohash: filename=pygeohash-1.2.0-py2.py3-none-any.whl size=6178 sha256=f560e3a3a0ca51e9a40983dcbffbf17cfe1a11d3c22b6eb692f2bbdfe205f0e4\n",
      "  Stored in directory: c:\\users\\morit\\appdata\\local\\pip\\cache\\wheels\\95\\22\\7a\\35719e5f20cdc599cc837c67031a3ec2f011e1d418f57a37ce\n",
      "Successfully built pygeohash\n",
      "Installing collected packages: pygeohash\n",
      "Successfully installed pygeohash-1.2.0\n"
     ]
    }
   ],
   "source": [
    "#!pip install pygeohash"
   ],
   "metadata": {
    "collapsed": false,
    "ExecuteTime": {
     "end_time": "2023-10-04T09:56:16.435476Z",
     "start_time": "2023-10-04T09:56:11.531507200Z"
    }
   },
   "id": "5184d9286174e156"
  },
  {
   "cell_type": "code",
   "execution_count": 4,
   "outputs": [],
   "source": [
    "import pygeohash\n",
    "import re"
   ],
   "metadata": {
    "collapsed": false,
    "ExecuteTime": {
     "end_time": "2023-10-16T19:24:16.646724400Z",
     "start_time": "2023-10-16T19:24:16.627005600Z"
    }
   },
   "id": "fa73b0f8e197b03a"
  },
  {
   "cell_type": "code",
   "execution_count": 6,
   "outputs": [
    {
     "name": "stdout",
     "output_type": "stream",
     "text": [
      "(46.42325663007796, 14.74435793235898, 8.381903171539307e-08, 1.6763806343078613e-07)\n"
     ]
    }
   ],
   "source": [
    "test_string = pygeohash.encode(longitude=14.744357766666, latitude=46.4232566666)\n",
    "print(pygeohash.decode_exactly(test_string))"
   ],
   "metadata": {
    "collapsed": false,
    "ExecuteTime": {
     "end_time": "2023-10-16T19:24:41.408583900Z",
     "start_time": "2023-10-16T19:24:41.365384100Z"
    }
   },
   "id": "dca2c015cd1a18f6"
  },
  {
   "cell_type": "code",
   "execution_count": 7,
   "outputs": [],
   "source": [
    "def wkt_to_geohash(wkt:str) -> str:\n",
    "    m = re.match(r'Point\\((.*) (.*)\\)', wkt)\n",
    "    if m:\n",
    "        lon = float(m.group(1))\n",
    "        lat = float(m.group(2))\n",
    "        return pygeohash.encode(longitude=lon, latitude=lat, precision = 6)\n",
    "    else:\n",
    "        return '000000'"
   ],
   "metadata": {
    "collapsed": false,
    "ExecuteTime": {
     "end_time": "2023-10-16T19:24:54.466573600Z",
     "start_time": "2023-10-16T19:24:54.440403100Z"
    }
   },
   "id": "3483d84dc1e28e3c"
  },
  {
   "cell_type": "code",
   "execution_count": 8,
   "outputs": [],
   "source": [
    "candidates['geohash'] = candidates.apply(lambda row: wkt_to_geohash(row['location']), axis=1)"
   ],
   "metadata": {
    "collapsed": false,
    "ExecuteTime": {
     "end_time": "2023-10-16T19:24:56.161078Z",
     "start_time": "2023-10-16T19:24:55.532317800Z"
    }
   },
   "id": "44109c9c0230223b"
  },
  {
   "cell_type": "code",
   "execution_count": 9,
   "outputs": [
    {
     "data": {
      "text/plain": "         predicate               label                      location geohash\n0  wkg:10000310952      Planina Grohat   Point(14.7443577 46.423256)  u262pe\n1  wkg:10000464002           Bar Sokol    Point(14.5208932 46.03545)  u24mfk\n2  wkg:10000633532       Oton Župančič  Point(14.5049273 46.0542961)  u24mfp\n3  wkg:10001176746  Slovenska Bistrica  Point(15.5529495 46.3925384)  u25pcv\n4  wkg:10001265524         Bar Platana  Point(14.5048953 46.0500597)  u24mfp",
      "text/html": "<div>\n<style scoped>\n    .dataframe tbody tr th:only-of-type {\n        vertical-align: middle;\n    }\n\n    .dataframe tbody tr th {\n        vertical-align: top;\n    }\n\n    .dataframe thead th {\n        text-align: right;\n    }\n</style>\n<table border=\"1\" class=\"dataframe\">\n  <thead>\n    <tr style=\"text-align: right;\">\n      <th></th>\n      <th>predicate</th>\n      <th>label</th>\n      <th>location</th>\n      <th>geohash</th>\n    </tr>\n  </thead>\n  <tbody>\n    <tr>\n      <th>0</th>\n      <td>wkg:10000310952</td>\n      <td>Planina Grohat</td>\n      <td>Point(14.7443577 46.423256)</td>\n      <td>u262pe</td>\n    </tr>\n    <tr>\n      <th>1</th>\n      <td>wkg:10000464002</td>\n      <td>Bar Sokol</td>\n      <td>Point(14.5208932 46.03545)</td>\n      <td>u24mfk</td>\n    </tr>\n    <tr>\n      <th>2</th>\n      <td>wkg:10000633532</td>\n      <td>Oton Župančič</td>\n      <td>Point(14.5049273 46.0542961)</td>\n      <td>u24mfp</td>\n    </tr>\n    <tr>\n      <th>3</th>\n      <td>wkg:10001176746</td>\n      <td>Slovenska Bistrica</td>\n      <td>Point(15.5529495 46.3925384)</td>\n      <td>u25pcv</td>\n    </tr>\n    <tr>\n      <th>4</th>\n      <td>wkg:10001265524</td>\n      <td>Bar Platana</td>\n      <td>Point(14.5048953 46.0500597)</td>\n      <td>u24mfp</td>\n    </tr>\n  </tbody>\n</table>\n</div>"
     },
     "execution_count": 9,
     "metadata": {},
     "output_type": "execute_result"
    }
   ],
   "source": [
    "candidates.head()"
   ],
   "metadata": {
    "collapsed": false,
    "ExecuteTime": {
     "end_time": "2023-10-16T19:24:57.239837200Z",
     "start_time": "2023-10-16T19:24:57.210257200Z"
    }
   },
   "id": "d3abe8facad6fc9a"
  },
  {
   "cell_type": "code",
   "execution_count": 18,
   "outputs": [],
   "source": [
    "from haversine import haversine\n",
    "import numpy as np"
   ],
   "metadata": {
    "collapsed": false,
    "ExecuteTime": {
     "end_time": "2023-10-16T19:28:31.272092100Z",
     "start_time": "2023-10-16T19:28:28.217838600Z"
    }
   },
   "id": "b9c7de16c4c30513"
  },
  {
   "cell_type": "code",
   "execution_count": 23,
   "outputs": [],
   "source": [
    "def haversine_from_geohash(hash1:str, hash2:str) -> float:\n",
    "    \"\"\"\n",
    "    function to estimate haversine distance from geohash strings\n",
    "    :param hash1: first loaction encoded in geohash\n",
    "    :param hash2: second location encoded in geohash\n",
    "    :return: estimated distance between locations in km\n",
    "    \"\"\"\n",
    "    # only take first two parts of tuples, rest are error estimations\n",
    "    hd = haversine(pygeohash.decode_exactly(hash1)[:2], pygeohash.decode_exactly(hash2)[:2])\n",
    "    return hd"
   ],
   "metadata": {
    "collapsed": false,
    "ExecuteTime": {
     "end_time": "2023-10-16T19:32:19.934795800Z",
     "start_time": "2023-10-16T19:32:19.916229800Z"
    }
   },
   "id": "c5fd235825b4a591"
  },
  {
   "cell_type": "code",
   "execution_count": 26,
   "outputs": [
    {
     "name": "stdout",
     "output_type": "stream",
     "text": [
      "precision 1 \tu \tu\n",
      "haversine: 0.0\n",
      "precision 2 \tu2 \tu2\n",
      "haversine: 0.0\n",
      "precision 3 \tu26 \tu24\n",
      "haversine: 156.3680815784051\n",
      "precision 4 \tu262 \tu24m\n",
      "haversine: 58.63803059190192\n",
      "precision 5 \tu262p \tu24mf\n",
      "haversine: 47.11436456470272\n",
      "precision 6 \tu262pe \tu24mfk\n",
      "haversine: 46.85819773667396\n"
     ]
    }
   ],
   "source": [
    "for i in range(1, 6 + 1):\n",
    "    h1 = candidates['geohash'][0][:i]\n",
    "    h2 = candidates['geohash'][1][:i]\n",
    "    print(f'precision {i} \\t{h1} \\t{h2}')\n",
    "    print(f'haversine: {haversine_from_geohash(h1, h2)}')"
   ],
   "metadata": {
    "collapsed": false,
    "ExecuteTime": {
     "end_time": "2023-10-16T19:34:42.628785300Z",
     "start_time": "2023-10-16T19:34:42.594683700Z"
    }
   },
   "id": "36747b0034824c5"
  },
  {
   "cell_type": "code",
   "execution_count": 36,
   "outputs": [
    {
     "data": {
      "text/plain": "'u24mfp'"
     },
     "execution_count": 36,
     "metadata": {},
     "output_type": "execute_result"
    }
   ],
   "source": [
    "candidates.loc[4, 'geohash']"
   ],
   "metadata": {
    "collapsed": false,
    "ExecuteTime": {
     "start_time": "2023-10-04T10:18:34.727615300Z"
    }
   },
   "id": "c93e73d4f8c3f38"
  },
  {
   "cell_type": "code",
   "execution_count": 69,
   "outputs": [
    {
     "name": "stdout",
     "output_type": "stream",
     "text": [
      "Collecting haversine\n",
      "  Downloading haversine-2.8.0-py2.py3-none-any.whl (7.7 kB)\n",
      "Installing collected packages: haversine\n",
      "Successfully installed haversine-2.8.0\n"
     ]
    }
   ],
   "source": [
    "! pip install haversine"
   ],
   "metadata": {
    "collapsed": false,
    "ExecuteTime": {
     "end_time": "2023-10-04T10:26:25.483771300Z",
     "start_time": "2023-10-04T10:26:23.279855300Z"
    }
   },
   "id": "b0bb8e49cbaee4e3"
  },
  {
   "cell_type": "code",
   "execution_count": null,
   "outputs": [],
   "source": [
    "# need geohash distance based on type\n",
    "# need cosine between embedded labels\n",
    "# need cosine between types"
   ],
   "metadata": {
    "collapsed": false
   },
   "id": "3365157adf516bc8"
  }
 ],
 "metadata": {
  "kernelspec": {
   "display_name": "Python 3",
   "language": "python",
   "name": "python3"
  },
  "language_info": {
   "codemirror_mode": {
    "name": "ipython",
    "version": 2
   },
   "file_extension": ".py",
   "mimetype": "text/x-python",
   "name": "python",
   "nbconvert_exporter": "python",
   "pygments_lexer": "ipython2",
   "version": "2.7.6"
  }
 },
 "nbformat": 4,
 "nbformat_minor": 5
}
